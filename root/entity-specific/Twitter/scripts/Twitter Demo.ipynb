{
 "cells": [
  {
   "cell_type": "markdown",
   "id": "1a977ab6",
   "metadata": {},
   "source": [
    "## Imports"
   ]
  },
  {
   "cell_type": "code",
   "execution_count": null,
   "id": "523c5799",
   "metadata": {},
   "outputs": [],
   "source": [
    "%load_ext autoreload\n",
    "%autoreload 2"
   ]
  },
  {
   "cell_type": "code",
   "execution_count": null,
   "id": "e688d8f0",
   "metadata": {},
   "outputs": [],
   "source": [
    "import json\n",
    "from pprint import pprint"
   ]
  },
  {
   "cell_type": "code",
   "execution_count": null,
   "id": "2390e464",
   "metadata": {},
   "outputs": [],
   "source": [
    "zipfilename = \"../inputs/twitter-2022-02-17-cf8888eb631a941f287fbfec1a2662e1127775f1ba68efad59880f2fafdcfea7.zip\""
   ]
  },
  {
   "cell_type": "markdown",
   "id": "faeed3a8",
   "metadata": {},
   "source": [
    "---"
   ]
  },
  {
   "cell_type": "markdown",
   "id": "0dc5c49e",
   "metadata": {},
   "source": [
    "## Parsing\n",
    "\n",
    "- We are parsing the ZIP from Twitter, using a ZIPParser with a TwitterJSParser as argument.\n",
    "- This parsing will return a list of Trees to explore."
   ]
  },
  {
   "cell_type": "code",
   "execution_count": null,
   "id": "c0790694",
   "metadata": {
    "scrolled": false
   },
   "outputs": [],
   "source": [
    "from argonodes.parsers import ZIPParser, TwitterJSParser\n",
    "zipparser = ZIPParser(parser=TwitterJSParser, regex=r\"data\\/.*\\.js$\", extension=\"js\", verbose=1)\n",
    "trees = zipparser(zipfilename)"
   ]
  },
  {
   "cell_type": "markdown",
   "id": "c740bb6c",
   "metadata": {},
   "source": [
    "---"
   ]
  },
  {
   "cell_type": "markdown",
   "id": "0c079939",
   "metadata": {},
   "source": [
    "## Tree exploration\n",
    "\n",
    "- For each Tree, we do a bit of exploration, and try to add informations."
   ]
  },
  {
   "cell_type": "code",
   "execution_count": null,
   "id": "6794eaab",
   "metadata": {},
   "outputs": [],
   "source": [
    "from argonodes.nodes import NA"
   ]
  },
  {
   "cell_type": "markdown",
   "id": "3ed8664f",
   "metadata": {},
   "source": [
    "### Installing facultative imports\n",
    "\n",
    "We are going to use FoundRegex, which uses an external package, `tdda`."
   ]
  },
  {
   "cell_type": "code",
   "execution_count": null,
   "id": "b3d7b335",
   "metadata": {},
   "outputs": [],
   "source": [
    "# from argonodes.appliers import FoundRegex\n",
    "# found_regex = FoundRegex()"
   ]
  },
  {
   "cell_type": "markdown",
   "id": "fc15c780",
   "metadata": {},
   "source": [
    "#### Do we have some pattern?\n",
    "\n",
    "We are going to do a \"full example\" using FoundRegex, but sometimes you do not need it at all."
   ]
  },
  {
   "cell_type": "code",
   "execution_count": null,
   "id": "f888cbe7",
   "metadata": {
    "scrolled": true
   },
   "outputs": [],
   "source": [
    "# from datetime import datetime\n",
    "\n",
    "# print(datetime.now())\n",
    "# total = len(trees)\n",
    "# for i, (name, tree) in enumerate(trees.items()):\n",
    "#     found_regex(tree)\n",
    "#     print(f\"{datetime.now()}: {i+1}/{total}: {name}\")"
   ]
  },
  {
   "cell_type": "markdown",
   "id": "7b8407c4",
   "metadata": {},
   "source": [
    "---"
   ]
  },
  {
   "cell_type": "markdown",
   "id": "2d70f10a",
   "metadata": {},
   "source": [
    "We are going to follow the order of the `README.txt` file provied by Twitter in that case.\n",
    "\n",
    "Note: Each file from the dataset contains a list of objects. Regularly, each object can be seen as an \"action\", often with a timestamp. For instance, the file [`account.js`](#account.js) contains only one \"action\", i.e., information about the account, and when it was created, while the file [`email-address-change.js`](#email-address-change.js) may contain more than one action, i.e., when the email account was changed."
   ]
  },
  {
   "cell_type": "markdown",
   "id": "a6bac44d",
   "metadata": {},
   "source": [
    "### \"SENSORY INFORMATION\"\n",
    "\n",
    "\"(Audio, electronic, visual, and similar information)\""
   ]
  },
  {
   "cell_type": "markdown",
   "id": "85d37b14",
   "metadata": {},
   "source": [
    "#### `periscope-expired-broadcasts.js`"
   ]
  },
  {
   "cell_type": "code",
   "execution_count": null,
   "id": "3b544595",
   "metadata": {},
   "outputs": [],
   "source": [
    "cur_tree = trees[\"data/periscope-expired-broadcasts.js\"]\n",
    "print(f\"Filename: {cur_tree.filename}\")\n",
    "print(f\"Paths:\\n{cur_tree.get_paths_fancy()}\")"
   ]
  },
  {
   "cell_type": "markdown",
   "id": "d23cad76",
   "metadata": {},
   "source": [
    "Note: No data available, but according to the README:\n",
    "\n",
    "- broadcastIds: A list of the broadcast IDs posted by the shell account that have expired and cannot be encoded.\n",
    "- reason: Explanation of why broadcast replay files are unavailable (hard-coded)."
   ]
  },
  {
   "cell_type": "markdown",
   "id": "2ba0294f",
   "metadata": {},
   "source": [
    "#### `spaces-metadata.js`"
   ]
  },
  {
   "cell_type": "code",
   "execution_count": null,
   "id": "d0fbdc1b",
   "metadata": {},
   "outputs": [],
   "source": [
    "cur_tree = trees[\"data/spaces-metadata.js\"]\n",
    "print(f\"Filename: {cur_tree.filename}\")\n",
    "print(f\"Paths:\\n{cur_tree.get_paths_fancy()}\")"
   ]
  },
  {
   "cell_type": "markdown",
   "id": "6c1a75cc",
   "metadata": {},
   "source": [
    "Note: No data available, but according to the README:\n",
    "\n",
    "- id: Unique id for the space.\n",
    "- creatorUserId: The space creator’s Twitter user ID.\n",
    "- hostUserIds: Twitter user IDs of users that have admin/moderator authorization of this space.\n",
    "- speakers: Users that have participated in this space. It includes participants’ Twitter user IDs and start/end time of their spoken sessions. If data archive is generated at the time the space is live, it will include only the active speakers at the moment. If space has finished, then it will include everyone that participated.\n",
    "- createdAt: Space creation time.\n",
    "- endedAt: Space end time.\n",
    "- totalParticipating: Total number of users participating in the space when the data archive is generated.\n",
    "- totalParticipated: Total number of users that have participated in this space.\n",
    "- invitedUserIds: Twitter user IDs of users that are chosen by the host through space conversation control."
   ]
  },
  {
   "cell_type": "markdown",
   "id": "b7fe0b92",
   "metadata": {},
   "source": [
    "### \"IDENTIFIERS\"\n",
    "\n",
    "\"(Real name, alias, postal address, telephone number, unique identifiers (such as a device identifier, cookies, mobile ad identifiers), customer number, Internet Protocol address, email address, account name, and other similar identifiers)\""
   ]
  },
  {
   "cell_type": "markdown",
   "id": "efd5e1e9",
   "metadata": {},
   "source": [
    "#### `account-creation-ip.js`"
   ]
  },
  {
   "cell_type": "code",
   "execution_count": null,
   "id": "5e3d8b91",
   "metadata": {
    "scrolled": true
   },
   "outputs": [],
   "source": [
    "cur_tree = trees[\"data/account-creation-ip.js\"]\n",
    "print(f\"Filename: {cur_tree.filename}\")\n",
    "print(f\"Paths:\\n{cur_tree.get_paths_fancy()}\")"
   ]
  },
  {
   "cell_type": "code",
   "execution_count": null,
   "id": "7ec171e2",
   "metadata": {
    "scrolled": true
   },
   "outputs": [],
   "source": [
    "cur_tree.set_attributes(\n",
    "    \"data/account-creation-ip.js:$\",\n",
    "    descriptiveType=NA,\n",
    "    unique=True,\n",
    "    default=NA,\n",
    "    description=\"What IP was used to create that account.\",\n",
    "    choices=NA,\n",
    "    regex=NA,\n",
    ")"
   ]
  },
  {
   "cell_type": "code",
   "execution_count": null,
   "id": "7b8d2ec8",
   "metadata": {
    "scrolled": true
   },
   "outputs": [],
   "source": [
    "cur_tree.set_attributes(\n",
    "    \"data/account-creation-ip.js:$[*].accountCreationIp.accountId\",\n",
    "    descriptiveType=\"https://schema.org/identifier\",\n",
    "    unique=True,\n",
    "    default=NA,\n",
    "    description=\"Unique identifier for the account.\",\n",
    "    choices=NA,\n",
    "    regex=NA,\n",
    ")"
   ]
  },
  {
   "cell_type": "code",
   "execution_count": null,
   "id": "7f86e158",
   "metadata": {
    "scrolled": true
   },
   "outputs": [],
   "source": [
    "cur_tree.set_attributes(\n",
    "    \"data/account-creation-ip.js:$[*].accountCreationIp.userCreationIp\",\n",
    "    descriptiveType=\"https://github.com/hestiaAI/Argonodes/wiki/General:IPv4\",\n",
    "    unique=True,\n",
    "    default=NA,\n",
    "    description=\"IP address at account creation.\",\n",
    "    choices=NA,\n",
    "    regex=[r\"(\\b25[0-5]|\\b2[0-4][0-9]|\\b[01]?[0-9][0-9]?)(\\.(25[0-5]|2[0-4][0-9]|[01]?[0-9][0-9]?)){3}\"],\n",
    ")"
   ]
  },
  {
   "cell_type": "markdown",
   "id": "410e459f",
   "metadata": {},
   "source": [
    "#### `contact.js`"
   ]
  },
  {
   "cell_type": "code",
   "execution_count": null,
   "id": "5f7c65d7",
   "metadata": {},
   "outputs": [],
   "source": [
    "cur_tree = trees[\"data/contact.js\"]\n",
    "print(f\"Filename: {cur_tree.filename}\")\n",
    "print(f\"Paths:\\n{cur_tree.get_paths_fancy()}\")"
   ]
  },
  {
   "cell_type": "markdown",
   "id": "0d5ff9bd",
   "metadata": {},
   "source": [
    "Note: No data available, but according to the README:\n",
    "\n",
    "- id: Unique identifiers for the contacts imported to the account.\n",
    "- emails: Emails of the contacts imported to the account.\n",
    "- phoneNumbers: Phone numbers of the contacts imported to the account."
   ]
  },
  {
   "cell_type": "markdown",
   "id": "56c879e9",
   "metadata": {},
   "source": [
    "#### `email-address-change.js`"
   ]
  },
  {
   "cell_type": "code",
   "execution_count": null,
   "id": "a4d18d27",
   "metadata": {},
   "outputs": [],
   "source": [
    "cur_tree = trees[\"data/email-address-change.js\"]\n",
    "print(f\"Filename: {cur_tree.filename}\")\n",
    "print(f\"Paths:\\n{cur_tree.get_paths_fancy()}\")"
   ]
  },
  {
   "cell_type": "code",
   "execution_count": null,
   "id": "d5a33746",
   "metadata": {},
   "outputs": [],
   "source": [
    "cur_tree.set_attributes(\n",
    "    \"data/email-address-change.js:$\",\n",
    "    descriptiveType=NA,\n",
    "    unique=True,\n",
    "    default=NA,\n",
    "    description=\"Every email change made in that account.\",\n",
    "    choices=None,\n",
    "    regex=None,\n",
    ")"
   ]
  },
  {
   "cell_type": "code",
   "execution_count": null,
   "id": "2fe2e64b",
   "metadata": {},
   "outputs": [],
   "source": [
    "cur_tree.set_attributes(\n",
    "    \"data/email-address-change.js:$[*].emailAddressChange\",\n",
    "    descriptiveType=None,\n",
    "    unique=None,\n",
    "    default=None,\n",
    "    description=\"\",\n",
    "    choices=None,\n",
    "    regex=None,\n",
    ")"
   ]
  },
  {
   "cell_type": "code",
   "execution_count": null,
   "id": "67d7b086",
   "metadata": {},
   "outputs": [],
   "source": [
    "cur_tree.set_attributes(\n",
    "    \"\",\n",
    "    descriptiveType=None,\n",
    "    unique=None,\n",
    "    default=None,\n",
    "    description=\"\",\n",
    "    choices=None,\n",
    "    regex=None,\n",
    ")"
   ]
  },
  {
   "cell_type": "code",
   "execution_count": null,
   "id": "aa190ec6",
   "metadata": {},
   "outputs": [],
   "source": [
    "cur_tree.set_attributes(\n",
    "    \"\",\n",
    "    descriptiveType=None,\n",
    "    unique=None,\n",
    "    default=None,\n",
    "    description=\"\",\n",
    "    choices=None,\n",
    "    regex=None,\n",
    ")"
   ]
  },
  {
   "cell_type": "code",
   "execution_count": null,
   "id": "4032cafc",
   "metadata": {},
   "outputs": [],
   "source": [
    "cur_tree.set_attributes(\n",
    "    \"\",\n",
    "    descriptiveType=None,\n",
    "    unique=None,\n",
    "    default=None,\n",
    "    description=\"\",\n",
    "    choices=None,\n",
    "    regex=None,\n",
    ")"
   ]
  },
  {
   "cell_type": "code",
   "execution_count": null,
   "id": "356636f3",
   "metadata": {},
   "outputs": [],
   "source": [
    "cur_tree.set_attributes(\n",
    "    \"\",\n",
    "    descriptiveType=None,\n",
    "    unique=None,\n",
    "    default=None,\n",
    "    description=\"\",\n",
    "    choices=None,\n",
    "    regex=None,\n",
    ")"
   ]
  },
  {
   "cell_type": "code",
   "execution_count": null,
   "id": "73c8ae0d",
   "metadata": {},
   "outputs": [],
   "source": [
    "cur_tree.set_attributes(\n",
    "    \"\",\n",
    "    descriptiveType=None,\n",
    "    unique=None,\n",
    "    default=None,\n",
    "    description=\"\",\n",
    "    choices=None,\n",
    "    regex=None,\n",
    ")"
   ]
  },
  {
   "cell_type": "markdown",
   "id": "6483f56d",
   "metadata": {},
   "source": [
    "#### `ip-audit.js`"
   ]
  },
  {
   "cell_type": "code",
   "execution_count": null,
   "id": "cb6b8d39",
   "metadata": {},
   "outputs": [],
   "source": [
    "cur_tree = trees[\"data/ip-audit.js\"]\n",
    "print(f\"Filename: {cur_tree.filename}\")\n",
    "print(f\"Paths:\\n{cur_tree.get_paths_fancy()}\")"
   ]
  },
  {
   "cell_type": "code",
   "execution_count": null,
   "id": "52da9c83",
   "metadata": {},
   "outputs": [],
   "source": [
    "cur_tree.set_attributes(\n",
    "    \"\",\n",
    "    descriptiveType=None,\n",
    "    unique=None,\n",
    "    default=None,\n",
    "    description=\"\",\n",
    "    choices=None,\n",
    "    regex=None,\n",
    ")"
   ]
  },
  {
   "cell_type": "code",
   "execution_count": null,
   "id": "f119921e",
   "metadata": {},
   "outputs": [],
   "source": [
    "cur_tree.set_attributes(\n",
    "    \"\",\n",
    "    descriptiveType=None,\n",
    "    unique=None,\n",
    "    default=None,\n",
    "    description=\"\",\n",
    "    choices=None,\n",
    "    regex=None,\n",
    ")"
   ]
  },
  {
   "cell_type": "code",
   "execution_count": null,
   "id": "30624101",
   "metadata": {},
   "outputs": [],
   "source": [
    "cur_tree.set_attributes(\n",
    "    \"\",\n",
    "    descriptiveType=None,\n",
    "    unique=None,\n",
    "    default=None,\n",
    "    description=\"\",\n",
    "    choices=None,\n",
    "    regex=None,\n",
    ")"
   ]
  },
  {
   "cell_type": "code",
   "execution_count": null,
   "id": "c1a13ff2",
   "metadata": {},
   "outputs": [],
   "source": [
    "cur_tree.set_attributes(\n",
    "    \"\",\n",
    "    descriptiveType=None,\n",
    "    unique=None,\n",
    "    default=None,\n",
    "    description=\"\",\n",
    "    choices=None,\n",
    "    regex=None,\n",
    ")"
   ]
  },
  {
   "cell_type": "code",
   "execution_count": null,
   "id": "0398805e",
   "metadata": {},
   "outputs": [],
   "source": [
    "cur_tree.set_attributes(\n",
    "    \"\",\n",
    "    descriptiveType=None,\n",
    "    unique=None,\n",
    "    default=None,\n",
    "    description=\"\",\n",
    "    choices=None,\n",
    "    regex=None,\n",
    ")"
   ]
  },
  {
   "cell_type": "code",
   "execution_count": null,
   "id": "182baa50",
   "metadata": {},
   "outputs": [],
   "source": []
  },
  {
   "cell_type": "markdown",
   "id": "5c68e7d5",
   "metadata": {},
   "source": [
    "#### `periscope-account-information.js`"
   ]
  },
  {
   "cell_type": "code",
   "execution_count": null,
   "id": "a271adde",
   "metadata": {},
   "outputs": [],
   "source": [
    "cur_tree = trees[\"data/periscope-account-information.js\"]\n",
    "print(f\"Filename: {cur_tree.filename}\")\n",
    "print(f\"Paths:\\n{cur_tree.get_paths_fancy()}\")"
   ]
  },
  {
   "cell_type": "code",
   "execution_count": null,
   "id": "7583707e",
   "metadata": {},
   "outputs": [],
   "source": [
    "cur_tree.set_attributes(\n",
    "    \"\",\n",
    "    descriptiveType=None,\n",
    "    unique=None,\n",
    "    default=None,\n",
    "    description=\"\",\n",
    "    choices=None,\n",
    "    regex=None,\n",
    ")"
   ]
  },
  {
   "cell_type": "code",
   "execution_count": null,
   "id": "5436eb67",
   "metadata": {},
   "outputs": [],
   "source": [
    "cur_tree.set_attributes(\n",
    "    \"\",\n",
    "    descriptiveType=None,\n",
    "    unique=None,\n",
    "    default=None,\n",
    "    description=\"\",\n",
    "    choices=None,\n",
    "    regex=None,\n",
    ")"
   ]
  },
  {
   "cell_type": "code",
   "execution_count": null,
   "id": "c2e40fdb",
   "metadata": {},
   "outputs": [],
   "source": [
    "cur_tree.set_attributes(\n",
    "    \"\",\n",
    "    descriptiveType=None,\n",
    "    unique=None,\n",
    "    default=None,\n",
    "    description=\"\",\n",
    "    choices=None,\n",
    "    regex=None,\n",
    ")"
   ]
  },
  {
   "cell_type": "code",
   "execution_count": null,
   "id": "d4104c3a",
   "metadata": {},
   "outputs": [],
   "source": [
    "cur_tree.set_attributes(\n",
    "    \"\",\n",
    "    descriptiveType=None,\n",
    "    unique=None,\n",
    "    default=None,\n",
    "    description=\"\",\n",
    "    choices=None,\n",
    "    regex=None,\n",
    ")"
   ]
  },
  {
   "cell_type": "code",
   "execution_count": null,
   "id": "6dcb7475",
   "metadata": {},
   "outputs": [],
   "source": [
    "cur_tree.set_attributes(\n",
    "    \"\",\n",
    "    descriptiveType=None,\n",
    "    unique=None,\n",
    "    default=None,\n",
    "    description=\"\",\n",
    "    choices=None,\n",
    "    regex=None,\n",
    ")"
   ]
  },
  {
   "cell_type": "code",
   "execution_count": null,
   "id": "1ad14dc6",
   "metadata": {},
   "outputs": [],
   "source": [
    "cur_tree.set_attributes(\n",
    "    \"\",\n",
    "    descriptiveType=None,\n",
    "    unique=None,\n",
    "    default=None,\n",
    "    description=\"\",\n",
    "    choices=None,\n",
    "    regex=None,\n",
    ")"
   ]
  },
  {
   "cell_type": "code",
   "execution_count": null,
   "id": "27ed14fb",
   "metadata": {},
   "outputs": [],
   "source": [
    "cur_tree.set_attributes(\n",
    "    \"\",\n",
    "    descriptiveType=None,\n",
    "    unique=None,\n",
    "    default=None,\n",
    "    description=\"\",\n",
    "    choices=None,\n",
    "    regex=None,\n",
    ")"
   ]
  },
  {
   "cell_type": "code",
   "execution_count": null,
   "id": "ae0f51dd",
   "metadata": {},
   "outputs": [],
   "source": [
    "cur_tree.set_attributes(\n",
    "    \"\",\n",
    "    descriptiveType=None,\n",
    "    unique=None,\n",
    "    default=None,\n",
    "    description=\"\",\n",
    "    choices=None,\n",
    "    regex=None,\n",
    ")"
   ]
  },
  {
   "cell_type": "code",
   "execution_count": null,
   "id": "ed710aa9",
   "metadata": {},
   "outputs": [],
   "source": [
    "cur_tree.set_attributes(\n",
    "    \"\",\n",
    "    descriptiveType=None,\n",
    "    unique=None,\n",
    "    default=None,\n",
    "    description=\"\",\n",
    "    choices=None,\n",
    "    regex=None,\n",
    ")"
   ]
  },
  {
   "cell_type": "code",
   "execution_count": null,
   "id": "f7899fec",
   "metadata": {},
   "outputs": [],
   "source": []
  },
  {
   "cell_type": "markdown",
   "id": "5a69cd31",
   "metadata": {},
   "source": [
    "#### `periscope-ban-information.js`"
   ]
  },
  {
   "cell_type": "code",
   "execution_count": null,
   "id": "6aa62c2c",
   "metadata": {},
   "outputs": [],
   "source": [
    "cur_tree = trees[\"data/periscope-ban-information.js\"]\n",
    "print(f\"Filename: {cur_tree.filename}\")\n",
    "print(f\"Paths:\\n{cur_tree.get_paths_fancy()}\")"
   ]
  },
  {
   "cell_type": "markdown",
   "id": "bb866bc0",
   "metadata": {},
   "source": [
    "Note: No data available, but according to the README:\n",
    "\n",
    "- periscopeBanActions: A list of timestamps and reasons an account was disabled.\n",
    "- periscopeBanOverrideActions: A list of timestamps and ban reasons that an administrator has determined were incorrectly automatically applied to the account."
   ]
  },
  {
   "cell_type": "markdown",
   "id": "2be31711",
   "metadata": {},
   "source": [
    "#### `phone-number.js`"
   ]
  },
  {
   "cell_type": "code",
   "execution_count": null,
   "id": "1b4189a1",
   "metadata": {
    "scrolled": true
   },
   "outputs": [],
   "source": [
    "cur_tree = trees[\"data/phone-number.js\"]\n",
    "print(f\"Filename: {cur_tree.filename}\")\n",
    "print(f\"Paths:\\n{cur_tree.get_paths_fancy()}\")"
   ]
  },
  {
   "cell_type": "code",
   "execution_count": null,
   "id": "fc985687",
   "metadata": {},
   "outputs": [],
   "source": [
    "cur_tree.set_attributes(\n",
    "    \"\",\n",
    "    descriptiveType=None,\n",
    "    unique=None,\n",
    "    default=None,\n",
    "    description=\"\",\n",
    "    choices=None,\n",
    "    regex=None,\n",
    ")"
   ]
  },
  {
   "cell_type": "code",
   "execution_count": null,
   "id": "7c120d2a",
   "metadata": {},
   "outputs": [],
   "source": [
    "cur_tree.set_attributes(\n",
    "    \"\",\n",
    "    descriptiveType=None,\n",
    "    unique=None,\n",
    "    default=None,\n",
    "    description=\"\",\n",
    "    choices=None,\n",
    "    regex=None,\n",
    ")"
   ]
  },
  {
   "cell_type": "code",
   "execution_count": null,
   "id": "460490e5",
   "metadata": {},
   "outputs": [],
   "source": []
  },
  {
   "cell_type": "markdown",
   "id": "f72d36f9",
   "metadata": {},
   "source": [
    "#### `screen-name-change.js`"
   ]
  },
  {
   "cell_type": "code",
   "execution_count": null,
   "id": "cc31e72c",
   "metadata": {
    "scrolled": false
   },
   "outputs": [],
   "source": [
    "cur_tree = trees[\"data/screen-name-change.js\"]\n",
    "print(f\"Filename: {cur_tree.filename}\")\n",
    "print(f\"Paths:\\n{cur_tree.get_paths_fancy()}\")"
   ]
  },
  {
   "cell_type": "code",
   "execution_count": null,
   "id": "420fac0d",
   "metadata": {},
   "outputs": [],
   "source": [
    "cur_tree.set_attributes(\n",
    "    \"\",\n",
    "    descriptiveType=None,\n",
    "    unique=None,\n",
    "    default=None,\n",
    "    description=\"\",\n",
    "    choices=None,\n",
    "    regex=None,\n",
    ")"
   ]
  },
  {
   "cell_type": "code",
   "execution_count": null,
   "id": "cc0fdaf3",
   "metadata": {},
   "outputs": [],
   "source": [
    "cur_tree.set_attributes(\n",
    "    \"\",\n",
    "    descriptiveType=None,\n",
    "    unique=None,\n",
    "    default=None,\n",
    "    description=\"\",\n",
    "    choices=None,\n",
    "    regex=None,\n",
    ")"
   ]
  },
  {
   "cell_type": "code",
   "execution_count": null,
   "id": "ed370283",
   "metadata": {},
   "outputs": [],
   "source": [
    "cur_tree.set_attributes(\n",
    "    \"\",\n",
    "    descriptiveType=None,\n",
    "    unique=None,\n",
    "    default=None,\n",
    "    description=\"\",\n",
    "    choices=None,\n",
    "    regex=None,\n",
    ")"
   ]
  },
  {
   "cell_type": "code",
   "execution_count": null,
   "id": "4a2c9a38",
   "metadata": {},
   "outputs": [],
   "source": [
    "cur_tree.set_attributes(\n",
    "    \"\",\n",
    "    descriptiveType=None,\n",
    "    unique=None,\n",
    "    default=None,\n",
    "    description=\"\",\n",
    "    choices=None,\n",
    "    regex=None,\n",
    ")"
   ]
  },
  {
   "cell_type": "code",
   "execution_count": null,
   "id": "d885c1e5",
   "metadata": {},
   "outputs": [],
   "source": [
    "cur_tree.set_attributes(\n",
    "    \"\",\n",
    "    descriptiveType=None,\n",
    "    unique=None,\n",
    "    default=None,\n",
    "    description=\"\",\n",
    "    choices=None,\n",
    "    regex=None,\n",
    ")"
   ]
  },
  {
   "cell_type": "code",
   "execution_count": null,
   "id": "6f1c600b",
   "metadata": {},
   "outputs": [],
   "source": [
    "cur_tree.set_attributes(\n",
    "    \"\",\n",
    "    descriptiveType=None,\n",
    "    unique=None,\n",
    "    default=None,\n",
    "    description=\"\",\n",
    "    choices=None,\n",
    "    regex=None,\n",
    ")"
   ]
  },
  {
   "cell_type": "code",
   "execution_count": null,
   "id": "c590691a",
   "metadata": {},
   "outputs": [],
   "source": [
    "cur_tree.set_attributes(\n",
    "    \"\",\n",
    "    descriptiveType=None,\n",
    "    unique=None,\n",
    "    default=None,\n",
    "    description=\"\",\n",
    "    choices=None,\n",
    "    regex=None,\n",
    ")"
   ]
  },
  {
   "cell_type": "code",
   "execution_count": null,
   "id": "327ab118",
   "metadata": {},
   "outputs": [],
   "source": []
  },
  {
   "cell_type": "markdown",
   "id": "72d41254",
   "metadata": {},
   "source": [
    "### \"ONLINE ACTIVITY\"\n",
    "\n",
    "\"(Internet and other electronic network activity information, including, but not limited to, information regarding interactions with websites, applications, or advertisements)\""
   ]
  },
  {
   "cell_type": "markdown",
   "id": "df629742",
   "metadata": {},
   "source": [
    "#### `account-suspension.js`"
   ]
  },
  {
   "cell_type": "code",
   "execution_count": null,
   "id": "a96b122b",
   "metadata": {},
   "outputs": [],
   "source": [
    "cur_tree = trees[\"data/account-suspension.js\"]\n",
    "print(f\"Filename: {cur_tree.filename}\")\n",
    "print(f\"Paths:\\n{cur_tree.get_paths_fancy()}\")"
   ]
  },
  {
   "cell_type": "markdown",
   "id": "ee1f4d56",
   "metadata": {},
   "source": [
    "Note: No data available, but according to the README:\n",
    "\n",
    "- timeStamp: Date and time of a suspension action.\n",
    "- action: Action taken regarding account suspension. Accounts are unsuspended by default. This file will be empty unless the account was suspended at some point."
   ]
  },
  {
   "cell_type": "markdown",
   "id": "6500805b",
   "metadata": {},
   "source": [
    "#### `account-timezone.js`"
   ]
  },
  {
   "cell_type": "code",
   "execution_count": null,
   "id": "d802c539",
   "metadata": {},
   "outputs": [],
   "source": [
    "cur_tree = trees[\"data/account-timezone.js\"]\n",
    "print(f\"Filename: {cur_tree.filename}\")\n",
    "print(f\"Paths:\\n{cur_tree.get_paths_fancy()}\")"
   ]
  },
  {
   "cell_type": "code",
   "execution_count": null,
   "id": "c958a5f0",
   "metadata": {},
   "outputs": [],
   "source": [
    "cur_tree.set_attributes(\n",
    "    \"data/account-timezone.js:$\",\n",
    "    descriptiveType=NA,\n",
    "    unique=True,\n",
    "    default=NA,\n",
    "    description=NA,\n",
    "    choices=NA,\n",
    "    regex=NA,\n",
    ")"
   ]
  },
  {
   "cell_type": "code",
   "execution_count": null,
   "id": "3b089cd2",
   "metadata": {},
   "outputs": [],
   "source": [
    "cur_tree.set_attributes(\n",
    "    \"data/account-timezone.js:$[*].accountTimezone.accountId\",\n",
    "    descriptiveType=\"https://schema.org/identifier\",\n",
    "    unique=True,\n",
    "    default=NA,\n",
    "    description=\"Unique account ID for that user.\",\n",
    "    choices=NA,\n",
    "    regex=NA,\n",
    ")"
   ]
  },
  {
   "cell_type": "code",
   "execution_count": null,
   "id": "d230b5a1",
   "metadata": {
    "scrolled": true
   },
   "outputs": [],
   "source": [
    "cur_tree.set_attributes(\n",
    "    \"data/account-timezone.js:$[*].accountTimezone.timeZone\",\n",
    "    descriptiveType=\"https://schema.org/scheduleTimezone\",\n",
    "    unique=False,\n",
    "    default=NA,\n",
    "    description=\"Timezone used when creating the account.\",\n",
    "    choices=NA,\n",
    "    regex=[r\"\\w+\"],\n",
    ")"
   ]
  },
  {
   "cell_type": "code",
   "execution_count": null,
   "id": "3bb8fb53",
   "metadata": {},
   "outputs": [],
   "source": []
  },
  {
   "cell_type": "markdown",
   "id": "e0f3bdf6",
   "metadata": {},
   "source": [
    "#### `account.js`"
   ]
  },
  {
   "cell_type": "code",
   "execution_count": null,
   "id": "cecec469",
   "metadata": {
    "scrolled": true
   },
   "outputs": [],
   "source": [
    "cur_tree = trees[\"data/account.js\"]\n",
    "print(f\"Filename: {cur_tree.filename}\")\n",
    "print(f\"Paths:\\n{cur_tree.get_paths_fancy()}\")"
   ]
  },
  {
   "cell_type": "code",
   "execution_count": null,
   "id": "1ad18254",
   "metadata": {},
   "outputs": [],
   "source": [
    "cur_tree.set_attributes(\n",
    "    \"data/account.js:$\",\n",
    "    descriptiveType=NA,\n",
    "    unique=True,\n",
    "    default=NA,\n",
    "    description=NA,\n",
    "    choices=NA,\n",
    "    regex=NA,\n",
    ")"
   ]
  },
  {
   "cell_type": "code",
   "execution_count": null,
   "id": "67340547",
   "metadata": {},
   "outputs": [],
   "source": [
    "cur_tree.set_attributes(\n",
    "    \"data/account.js:$[*].account.accountDisplayName\",\n",
    "    descriptiveType=NA,\n",
    "    unique=True,\n",
    "    default=NA,\n",
    "    description=\"Current display name for that account.\",\n",
    "    choices=NA,\n",
    "    regex=NA,\n",
    ")"
   ]
  },
  {
   "cell_type": "code",
   "execution_count": null,
   "id": "543fd3a1",
   "metadata": {},
   "outputs": [],
   "source": [
    "cur_tree.set_attributes(\n",
    "    \"data/account.js:$[*].account.accountId\",\n",
    "    descriptiveType=\"https://schema.org/identifier\",\n",
    "    unique=True,\n",
    "    default=NA,\n",
    "    description=\"Unique account ID for that user.\",\n",
    "    choices=NA,\n",
    "    regex=NA,\n",
    ")"
   ]
  },
  {
   "cell_type": "code",
   "execution_count": null,
   "id": "59c24154",
   "metadata": {},
   "outputs": [],
   "source": [
    "cur_tree.set_attributes(\n",
    "    \"data/account.js:$[*].account.createdAt\",\n",
    "    descriptiveType=NA,\n",
    "    unique=True,\n",
    "    default=NA,\n",
    "    description=\"Timestamp for the creation of that account.\",\n",
    "    choices=NA,\n",
    "    regex=NA,\n",
    ")"
   ]
  },
  {
   "cell_type": "code",
   "execution_count": null,
   "id": "661ffc0f",
   "metadata": {},
   "outputs": [],
   "source": [
    "cur_tree.set_attributes(\n",
    "    \"data/account.js:$[*].account.createdVia\",\n",
    "    descriptiveType=NA,\n",
    "    unique=True,\n",
    "    default=NA,\n",
    "    description=\"Platform used to create that account.\",\n",
    "    choices=NA,\n",
    "    regex=NA,\n",
    ")"
   ]
  },
  {
   "cell_type": "code",
   "execution_count": null,
   "id": "5ffdae2d",
   "metadata": {},
   "outputs": [],
   "source": [
    "cur_tree.set_attributes(\n",
    "    \"data/account.js:$[*].account.email\",\n",
    "    descriptiveType=NA,\n",
    "    unique=True,\n",
    "    default=NA,\n",
    "    description=\"Email linked to that account.\",\n",
    "    choices=NA,\n",
    "    regex=[r\"^[\\w-\\.]+@([\\w-]+\\.)+[\\w-]{2,4}$\"],\n",
    ")"
   ]
  },
  {
   "cell_type": "code",
   "execution_count": null,
   "id": "9201215f",
   "metadata": {
    "scrolled": true
   },
   "outputs": [],
   "source": [
    "cur_tree.set_attributes(\n",
    "    \"data/account.js:$[*].account.username\",\n",
    "    descriptiveType=NA,\n",
    "    unique=True,\n",
    "    default=NA,\n",
    "    description=\"Current username for that account.\",\n",
    "    choices=NA,\n",
    "    regex=[r\"^(\\w){1,15}$\"],\n",
    ")"
   ]
  },
  {
   "cell_type": "code",
   "execution_count": null,
   "id": "93be800e",
   "metadata": {},
   "outputs": [],
   "source": []
  },
  {
   "cell_type": "markdown",
   "id": "2ec947af",
   "metadata": {},
   "source": [
    "#### `ad-engagements.js`"
   ]
  },
  {
   "cell_type": "code",
   "execution_count": null,
   "id": "3a3aa244",
   "metadata": {
    "scrolled": true
   },
   "outputs": [],
   "source": [
    "cur_tree = trees[\"data/ad-engagements.js\"]\n",
    "print(f\"Filename: {cur_tree.filename}\")\n",
    "print(f\"Paths:\\n{cur_tree.get_paths_fancy()}\")"
   ]
  },
  {
   "cell_type": "code",
   "execution_count": null,
   "id": "4e0dd4b4",
   "metadata": {},
   "outputs": [],
   "source": []
  },
  {
   "cell_type": "markdown",
   "id": "7e691db2",
   "metadata": {},
   "source": [
    "#### `ad-impressions.js`"
   ]
  },
  {
   "cell_type": "code",
   "execution_count": null,
   "id": "9e0f8fb3",
   "metadata": {},
   "outputs": [],
   "source": [
    "cur_tree = trees[\"data/ad-impressions.js\"]\n",
    "print(f\"Filename: {cur_tree.filename}\")\n",
    "print(f\"Paths:\\n{cur_tree.get_paths_fancy()}\")"
   ]
  },
  {
   "cell_type": "code",
   "execution_count": null,
   "id": "be37bef2",
   "metadata": {},
   "outputs": [],
   "source": []
  },
  {
   "cell_type": "markdown",
   "id": "d5e5e19c",
   "metadata": {},
   "source": [
    "#### `ad-mobile-conversions-attributed.js`"
   ]
  },
  {
   "cell_type": "code",
   "execution_count": null,
   "id": "a1504691",
   "metadata": {},
   "outputs": [],
   "source": [
    "cur_tree = trees[\"data/ad-mobile-conversions-attributed.js\"]\n",
    "print(f\"Filename: {cur_tree.filename}\")\n",
    "print(f\"Paths:\\n{cur_tree.get_paths_fancy()}\")"
   ]
  },
  {
   "cell_type": "markdown",
   "id": "754a6fb0",
   "metadata": {},
   "source": [
    "Note: No data available, but according to the README:\n",
    "\n",
    "- ad: Mobile application events associated with the account in the last 90 days which are attributable to a Promoted Tweet engagement on Twitter.\n",
    "- attributedConversionType: Type of activity specifically associated with the event.\n",
    "- mobilePlatform: Platform on which the event happened. For example: iOS or Android.\n",
    "- conversionEvent: Information about the event itself such as installing or signing up.\n",
    "- applicationName: Name of the application in which the event occurred.\n",
    "- conversionValue: Value associated with the event.\n",
    "- conversionTime: Date and time of the event.\n",
    "- additionalParameters: Other optional parameters associated with the event such as a currency or product category."
   ]
  },
  {
   "cell_type": "markdown",
   "id": "232caa1e",
   "metadata": {},
   "source": [
    "#### `ad-mobile-conversions-unattributed.js`"
   ]
  },
  {
   "cell_type": "code",
   "execution_count": null,
   "id": "4d665a9b",
   "metadata": {},
   "outputs": [],
   "source": [
    "cur_tree = trees[\"data/ad-mobile-conversions-unattributed.js\"]\n",
    "print(f\"Filename: {cur_tree.filename}\")\n",
    "print(f\"Paths:\\n{cur_tree.get_paths_fancy()}\")"
   ]
  },
  {
   "cell_type": "markdown",
   "id": "631fde69",
   "metadata": {},
   "source": [
    "Note: No data available, but according to the README:\n",
    "\n",
    "- ad: Mobile application events associated with the account in the last 10 days which may become attributable to a Promoted Tweet engagement on Twitter in the future.\n",
    "- mobilePlatform: Platform on which the event happened. For example: iOS or Android.\n",
    "- conversionEvent: Information about the event itself such as installing or signing up.\n",
    "- applicationName: Name of the application in which the event occurred.\n",
    "- conversionValue: Value associated with the event.\n",
    "- conversionTime: Date and time of the event.\n",
    "- additionalParameters: Other optional parameters associated with the event such as a currency."
   ]
  },
  {
   "cell_type": "markdown",
   "id": "c0dd4d49",
   "metadata": {},
   "source": [
    "#### `ad-online-conversions-attributed.js`"
   ]
  },
  {
   "cell_type": "code",
   "execution_count": null,
   "id": "3521af07",
   "metadata": {},
   "outputs": [],
   "source": [
    "cur_tree = trees[\"data/ad-online-conversions-attributed.js\"]\n",
    "print(f\"Filename: {cur_tree.filename}\")\n",
    "print(f\"Paths:\\n{cur_tree.get_paths_fancy()}\")"
   ]
  },
  {
   "cell_type": "markdown",
   "id": "3245b659",
   "metadata": {},
   "source": [
    "Note: No data available, but according to the README:\n",
    "\n",
    "- ad: Web events associated with the account in the last 90 days which are attributable to a Promoted Tweet engagement on Twitter.\n",
    "- attributedConversionType: Type of activity specifically associated with the event.\n",
    "- eventType: Information about the event itself such as viewing a page.\n",
    "- conversionPlatform: Platform on which the event happened. For example: desktop.\n",
    "- advertiserInfo: Advertiser name and screen name.\n",
    "- conversionValue: Value associated with the event.\n",
    "- conversionTime: Date and time of the event.\n",
    "- additionalParameters: Other optional parameters associated with the event such as a currency or product category."
   ]
  },
  {
   "cell_type": "markdown",
   "id": "a261ab50",
   "metadata": {},
   "source": [
    "#### `ad-online-conversions-unattributed.js`"
   ]
  },
  {
   "cell_type": "code",
   "execution_count": null,
   "id": "659dc1c2",
   "metadata": {},
   "outputs": [],
   "source": [
    "cur_tree = trees[\"data/ad-online-conversions-unattributed.js\"]\n",
    "print(f\"Filename: {cur_tree.filename}\")\n",
    "print(f\"Paths:\\n{cur_tree.get_paths_fancy()}\")"
   ]
  },
  {
   "cell_type": "markdown",
   "id": "d068b511",
   "metadata": {},
   "source": [
    "Note: No data available, but according to the README:\n",
    "\n",
    "- ad: Web events associated with the account in the last 90 days which may become attributable to a Promoted Tweet engagement on Twitter in the future.\n",
    "- eventType: Information about the event itself such as viewing a page.\n",
    "- conversionPlatform: Platform on which the event happened. For example: desktop.\n",
    "- conversionUrl: URL of the website on which the event occurred.\n",
    "- advertiserInfo: Advertiser name and screen name.\n",
    "- conversionValue: Value associated with the event.\n",
    "- conversionTime: Date and time of the event.\n",
    "- additionalParameters: Other optional parameters associated with the event such as a currency or product category."
   ]
  },
  {
   "cell_type": "markdown",
   "id": "2d7c6ae4",
   "metadata": {},
   "source": [
    "#### `app.js`"
   ]
  },
  {
   "cell_type": "code",
   "execution_count": null,
   "id": "1847387c",
   "metadata": {},
   "outputs": [],
   "source": [
    "cur_tree = trees[\"data/app.js\"]\n",
    "print(f\"Filename: {cur_tree.filename}\")\n",
    "print(f\"Paths:\\n{cur_tree.get_paths_fancy()}\")"
   ]
  },
  {
   "cell_type": "markdown",
   "id": "74ae91a3",
   "metadata": {},
   "source": [
    "Note: No data available, but according to the README:\n",
    "\n",
    "- appId: Identifier of the app Twitter believes may be installed on devices associated with the user.\n",
    "- appNames: Name of the app Twitter believes may be installed on devices associated with the user."
   ]
  },
  {
   "cell_type": "markdown",
   "id": "3d24fea5",
   "metadata": {},
   "source": [
    "#### `birdwatch-note-rating.js`"
   ]
  },
  {
   "cell_type": "code",
   "execution_count": null,
   "id": "eedd5e15",
   "metadata": {},
   "outputs": [],
   "source": [
    "cur_tree = trees[\"data/birdwatch-note-rating.js\"]\n",
    "print(f\"Filename: {cur_tree.filename}\")\n",
    "print(f\"Paths:\\n{cur_tree.get_paths_fancy()}\")"
   ]
  },
  {
   "cell_type": "markdown",
   "id": "11a93fd5",
   "metadata": {},
   "source": [
    "Note: No data available, but according to the README:\n",
    "\n",
    "- noteId: Unique identifier for the Birdwatch note.\n",
    "- userId: The Twitter user ID of the author of the Birdwatch note rating.\n",
    "- createdAt: Day and time at which the Birdwatch note rating was created.\n",
    "- agree: Indicates whether the Twitter user agrees or not with the Birdwatch note, if available.\n",
    "- helpful: Indicates whether the Twitter user finds the Birdwatch note helpful or not helpful, if available.\n",
    "- helpfulTags: Tags the user added to this Birdwatch note, if available. (Options may include but are not limited to “clear“, “good source”, etc.)\n",
    "- nothelpfulTags: Tags the user added to this Birdwatch note, if available. (Options may include but are not limited to “outdated“, “incorrect“, etc.)\n",
    "- helpfulnessLevel: Indicates whether the Twitter user finds the Birdwatch note helpful or not, if available. (Options may include but are not limited to \"helpful\", \"somewhat helpful\", \"not helpful\", etc.)\n",
    "- userAlias: The Birdwatch alias of the author of the Birdwatch note rating."
   ]
  },
  {
   "cell_type": "markdown",
   "id": "6dd7e915",
   "metadata": {},
   "source": [
    "#### `birdwatch-note.js`"
   ]
  },
  {
   "cell_type": "code",
   "execution_count": null,
   "id": "c9e2c25b",
   "metadata": {},
   "outputs": [],
   "source": [
    "cur_tree = trees[\"data/birdwatch-note.js\"]\n",
    "print(f\"Filename: {cur_tree.filename}\")\n",
    "print(f\"Paths:\\n{cur_tree.get_paths_fancy()}\")"
   ]
  },
  {
   "cell_type": "markdown",
   "id": "98af097e",
   "metadata": {},
   "source": [
    "Note: No data available, but according to the README:\n",
    "\n",
    "- noteId: Unique identifier for the Birdwatch note.\n",
    "- userId: The Twitter user ID of the author of the Birdwatch note.\n",
    "- createdAt: Day and time at which the Birdwatch note was created.\n",
    "- tweetId: Unique identifier for the Tweet annotated.\n",
    "- summary: Text of the Birdwatch note; users may explain why they think a Tweet is misleading and include what they believe to be correct information.\n",
    "- classification: Classification the user added to this Birdwatch note, if available. (Options may include but are not limited to \"not misleading,\" \"harmfully misleading,\" \"potentially misleading,\" etc.)\n",
    "- believable: User-entered multiple choice response to note writing question: “If this tweet were widely spread, its message would likely be believed by:” (Options may include but are not limited to “believable by few”, “believable by many”, etc.) \n",
    "- trustworthySources: Binary indicator, based on user-entered multiple choice in response to note writing question “Did you link to sources you believe most people would consider trustworthy?” (Options may include: 1 if “Yes” is selected, 0 if “No” is selected) \n",
    "- misleadingTags: User-entered checkbox in response to question “Why do you believe this tweet may be misleading?” (Check all that apply question type)\n",
    "- notMisleadingTags: User-entered checkbox in response to question “Why do you believe this tweet is not misleading?” (Check all that apply question type).\n",
    "- harmful: User-entered multiple choice response to note writing question: “If many believed this tweet, it might cause:”. (Options may include but are not limited to “little harm”, “considerable harm”, etc.)\n",
    "- validation: User-entered multiple choice response to note writing question: “Finding and understanding the correct information would be:” (Options may include but are not limited to “easy”, “challenging”.)\n",
    "- userAlias: The Birdwatch alias of the author of the Birdwatch note."
   ]
  },
  {
   "cell_type": "markdown",
   "id": "5eb7efd5",
   "metadata": {},
   "source": [
    "#### `block.js`"
   ]
  },
  {
   "cell_type": "code",
   "execution_count": null,
   "id": "c8efb7c1",
   "metadata": {},
   "outputs": [],
   "source": [
    "cur_tree = trees[\"data/block.js\"]\n",
    "print(f\"Filename: {cur_tree.filename}\")\n",
    "print(f\"Paths:\\n{cur_tree.get_paths_fancy()}\")"
   ]
  },
  {
   "cell_type": "code",
   "execution_count": null,
   "id": "7eb03527",
   "metadata": {},
   "outputs": [],
   "source": [
    "cur_tree.set_attributes(\n",
    "    \"\",\n",
    "    descriptiveType=None,\n",
    "    unique=None,\n",
    "    default=None,\n",
    "    description=\"\",\n",
    "    choices=None,\n",
    "    regex=None,\n",
    ")"
   ]
  },
  {
   "cell_type": "code",
   "execution_count": null,
   "id": "1a871a7b",
   "metadata": {},
   "outputs": [],
   "source": [
    "cur_tree.set_attributes(\n",
    "    \"\",\n",
    "    descriptiveType=None,\n",
    "    unique=None,\n",
    "    default=None,\n",
    "    description=\"\",\n",
    "    choices=None,\n",
    "    regex=None,\n",
    ")"
   ]
  },
  {
   "cell_type": "code",
   "execution_count": null,
   "id": "ce693e55",
   "metadata": {},
   "outputs": [],
   "source": [
    "cur_tree.set_attributes(\n",
    "    \"\",\n",
    "    descriptiveType=None,\n",
    "    unique=None,\n",
    "    default=None,\n",
    "    description=\"\",\n",
    "    choices=None,\n",
    "    regex=None,\n",
    ")"
   ]
  },
  {
   "cell_type": "code",
   "execution_count": null,
   "id": "26ab2f5d",
   "metadata": {},
   "outputs": [],
   "source": [
    "cur_tree.set_attributes(\n",
    "    \"\",\n",
    "    descriptiveType=None,\n",
    "    unique=None,\n",
    "    default=None,\n",
    "    description=\"\",\n",
    "    choices=None,\n",
    "    regex=None,\n",
    ")"
   ]
  },
  {
   "cell_type": "code",
   "execution_count": null,
   "id": "1d805283",
   "metadata": {},
   "outputs": [],
   "source": []
  },
  {
   "cell_type": "markdown",
   "id": "0ba709ef",
   "metadata": {},
   "source": [
    "#### `branch-links.js`"
   ]
  },
  {
   "cell_type": "code",
   "execution_count": null,
   "id": "96b362ee",
   "metadata": {},
   "outputs": [],
   "source": [
    "cur_tree = trees[\"data/branch-links.js\"]\n",
    "print(f\"Filename: {cur_tree.filename}\")\n",
    "print(f\"Paths:\\n{cur_tree.get_paths_fancy()}\")"
   ]
  },
  {
   "cell_type": "markdown",
   "id": "8c823852",
   "metadata": {},
   "source": [
    "Note: No data available, but according to the README:\n",
    "\n",
    "- timestamp: Date and time of when the user clicked on the external (off-Twitter) link that prompted them, for example, to download the Twitter app. Data is limited to the last 21 days on iOS and Android devices.\n",
    "- landingPage: URL indicating where the user landed on Twitter.\n",
    "- externalReferrerUrl: URL indicating where the user came from before landing on Twitter.\n",
    "- channel: Tracking parameter always set to Twitter.\n",
    "- feature: Tracking parameter indicating the Twitter product surface area where the user clicked.\n",
    "- campaign: Tracking parameter indicating the name of the marketing campaign which the user clicked."
   ]
  },
  {
   "cell_type": "markdown",
   "id": "cd1192cf",
   "metadata": {},
   "source": [
    "#### `community_tweet.js`\n",
    "\n",
    "Note: the real file name is `community-tweet.js`, but the `README.txt` uses `community_tweet.js`"
   ]
  },
  {
   "cell_type": "code",
   "execution_count": null,
   "id": "855e210f",
   "metadata": {},
   "outputs": [],
   "source": [
    "cur_tree = trees[\"data/community-tweet.js\"]\n",
    "print(f\"Filename: {cur_tree.filename}\")\n",
    "print(f\"Paths:\\n{cur_tree.get_paths_fancy()}\")"
   ]
  },
  {
   "cell_type": "code",
   "execution_count": null,
   "id": "8d5c00bc",
   "metadata": {},
   "outputs": [],
   "source": []
  },
  {
   "cell_type": "markdown",
   "id": "b1090305",
   "metadata": {},
   "source": [
    "#### `connected-application.js`"
   ]
  },
  {
   "cell_type": "code",
   "execution_count": null,
   "id": "99f28a51",
   "metadata": {},
   "outputs": [],
   "source": [
    "cur_tree = trees[\"data/connected-application.js\"]\n",
    "print(f\"Filename: {cur_tree.filename}\")\n",
    "print(f\"Paths:\\n{cur_tree.get_paths_fancy()}\")"
   ]
  },
  {
   "cell_type": "code",
   "execution_count": null,
   "id": "522773a3",
   "metadata": {},
   "outputs": [],
   "source": []
  },
  {
   "cell_type": "markdown",
   "id": "4fbd51e6",
   "metadata": {},
   "source": [
    "#### `device-token.js`"
   ]
  },
  {
   "cell_type": "code",
   "execution_count": null,
   "id": "5539beba",
   "metadata": {},
   "outputs": [],
   "source": [
    "cur_tree = trees[\"data/device-token.js\"]\n",
    "print(f\"Filename: {cur_tree.filename}\")\n",
    "print(f\"Paths:\\n{cur_tree.get_paths_fancy()}\")"
   ]
  },
  {
   "cell_type": "code",
   "execution_count": null,
   "id": "5294b50d",
   "metadata": {},
   "outputs": [],
   "source": []
  },
  {
   "cell_type": "markdown",
   "id": "15eff4e8",
   "metadata": {},
   "source": [
    "#### `direct-message-group-headers.js`"
   ]
  },
  {
   "cell_type": "code",
   "execution_count": null,
   "id": "fdd66569",
   "metadata": {},
   "outputs": [],
   "source": [
    "cur_tree = trees[\"data/direct-message-group-headers.js\"]\n",
    "print(f\"Filename: {cur_tree.filename}\")\n",
    "print(f\"Paths:\\n{cur_tree.get_paths_fancy()}\")"
   ]
  },
  {
   "cell_type": "code",
   "execution_count": null,
   "id": "59136a67",
   "metadata": {},
   "outputs": [],
   "source": []
  },
  {
   "cell_type": "markdown",
   "id": "a8b7f74b",
   "metadata": {},
   "source": [
    "#### `direct-message-headers.js`"
   ]
  },
  {
   "cell_type": "code",
   "execution_count": null,
   "id": "dd658bde",
   "metadata": {},
   "outputs": [],
   "source": [
    "cur_tree = trees[\"data/direct-message-headers.js\"]\n",
    "print(f\"Filename: {cur_tree.filename}\")\n",
    "print(f\"Paths:\\n{cur_tree.get_paths_fancy()}\")"
   ]
  },
  {
   "cell_type": "code",
   "execution_count": null,
   "id": "c9f452a8",
   "metadata": {},
   "outputs": [],
   "source": []
  },
  {
   "cell_type": "markdown",
   "id": "dab3d867",
   "metadata": {},
   "source": [
    "#### `direct-message-mute.js`"
   ]
  },
  {
   "cell_type": "code",
   "execution_count": null,
   "id": "c9487eee",
   "metadata": {},
   "outputs": [],
   "source": [
    "cur_tree = trees[\"data/direct-message-mute.js\"]\n",
    "print(f\"Filename: {cur_tree.filename}\")\n",
    "print(f\"Paths:\\n{cur_tree.get_paths_fancy()}\")"
   ]
  },
  {
   "cell_type": "code",
   "execution_count": null,
   "id": "d536cc48",
   "metadata": {},
   "outputs": [],
   "source": []
  },
  {
   "cell_type": "markdown",
   "id": "4d88932b",
   "metadata": {},
   "source": [
    "#### `direct-messages-group.js`"
   ]
  },
  {
   "cell_type": "code",
   "execution_count": null,
   "id": "f0b0b6c6",
   "metadata": {},
   "outputs": [],
   "source": [
    "cur_tree = trees[\"data/direct-messages-group.js\"]\n",
    "print(f\"Filename: {cur_tree.filename}\")\n",
    "print(f\"Paths:\\n{cur_tree.get_paths_fancy()}\")"
   ]
  },
  {
   "cell_type": "code",
   "execution_count": null,
   "id": "df816e64",
   "metadata": {},
   "outputs": [],
   "source": []
  },
  {
   "cell_type": "markdown",
   "id": "339ddc91",
   "metadata": {},
   "source": [
    "#### `direct-messages.js`"
   ]
  },
  {
   "cell_type": "code",
   "execution_count": null,
   "id": "1d13108d",
   "metadata": {},
   "outputs": [],
   "source": [
    "cur_tree = trees[\"data/direct-messages.js\"]\n",
    "print(f\"Filename: {cur_tree.filename}\")\n",
    "print(f\"Paths:\\n{cur_tree.get_paths_fancy()}\")"
   ]
  },
  {
   "cell_type": "code",
   "execution_count": null,
   "id": "603e6736",
   "metadata": {},
   "outputs": [],
   "source": []
  },
  {
   "cell_type": "markdown",
   "id": "990e7b0d",
   "metadata": {},
   "source": [
    "#### `follower.js`"
   ]
  },
  {
   "cell_type": "code",
   "execution_count": null,
   "id": "73832764",
   "metadata": {},
   "outputs": [],
   "source": [
    "cur_tree = trees[\"data/follower.js\"]\n",
    "print(f\"Filename: {cur_tree.filename}\")\n",
    "print(f\"Paths:\\n{cur_tree.get_paths_fancy()}\")"
   ]
  },
  {
   "cell_type": "code",
   "execution_count": null,
   "id": "f3f4a0ac",
   "metadata": {},
   "outputs": [],
   "source": []
  },
  {
   "cell_type": "markdown",
   "id": "6a904d92",
   "metadata": {},
   "source": [
    "#### `following.js`"
   ]
  },
  {
   "cell_type": "code",
   "execution_count": null,
   "id": "f1f2337f",
   "metadata": {},
   "outputs": [],
   "source": [
    "cur_tree = trees[\"data/following.js\"]\n",
    "print(f\"Filename: {cur_tree.filename}\")\n",
    "print(f\"Paths:\\n{cur_tree.get_paths_fancy()}\")"
   ]
  },
  {
   "cell_type": "code",
   "execution_count": null,
   "id": "512b9021",
   "metadata": {},
   "outputs": [],
   "source": []
  },
  {
   "cell_type": "markdown",
   "id": "41dfee2b",
   "metadata": {},
   "source": [
    "#### `like.js`"
   ]
  },
  {
   "cell_type": "code",
   "execution_count": null,
   "id": "bb03990f",
   "metadata": {},
   "outputs": [],
   "source": [
    "cur_tree = trees[\"data/like.js\"]\n",
    "print(f\"Filename: {cur_tree.filename}\")\n",
    "print(f\"Paths:\\n{cur_tree.get_paths_fancy()}\")"
   ]
  },
  {
   "cell_type": "code",
   "execution_count": null,
   "id": "2a998b5c",
   "metadata": {},
   "outputs": [],
   "source": []
  },
  {
   "cell_type": "markdown",
   "id": "432cd7d3",
   "metadata": {},
   "source": [
    "#### `lists-created.js`"
   ]
  },
  {
   "cell_type": "code",
   "execution_count": null,
   "id": "4790f981",
   "metadata": {},
   "outputs": [],
   "source": [
    "cur_tree = trees[\"data/lists-created.js\"]\n",
    "print(f\"Filename: {cur_tree.filename}\")\n",
    "print(f\"Paths:\\n{cur_tree.get_paths_fancy()}\")"
   ]
  },
  {
   "cell_type": "code",
   "execution_count": null,
   "id": "d3c3cd8d",
   "metadata": {},
   "outputs": [],
   "source": []
  },
  {
   "cell_type": "markdown",
   "id": "575b98fc",
   "metadata": {},
   "source": [
    "#### `lists-member.js`"
   ]
  },
  {
   "cell_type": "code",
   "execution_count": null,
   "id": "efa9ca3f",
   "metadata": {},
   "outputs": [],
   "source": [
    "cur_tree = trees[\"data/lists-member.js\"]\n",
    "print(f\"Filename: {cur_tree.filename}\")\n",
    "print(f\"Paths:\\n{cur_tree.get_paths_fancy()}\")"
   ]
  },
  {
   "cell_type": "code",
   "execution_count": null,
   "id": "12402db9",
   "metadata": {},
   "outputs": [],
   "source": []
  },
  {
   "cell_type": "markdown",
   "id": "8ca6fd3b",
   "metadata": {},
   "source": [
    "#### `lists-subscribed.js`"
   ]
  },
  {
   "cell_type": "code",
   "execution_count": null,
   "id": "b1eeea43",
   "metadata": {},
   "outputs": [],
   "source": [
    "cur_tree = trees[\"data/lists-subscribed.js\"]\n",
    "print(f\"Filename: {cur_tree.filename}\")\n",
    "print(f\"Paths:\\n{cur_tree.get_paths_fancy()}\")"
   ]
  },
  {
   "cell_type": "code",
   "execution_count": null,
   "id": "158a84a1",
   "metadata": {},
   "outputs": [],
   "source": []
  },
  {
   "cell_type": "markdown",
   "id": "2641b7ac",
   "metadata": {},
   "source": [
    "#### `moment.js`"
   ]
  },
  {
   "cell_type": "code",
   "execution_count": null,
   "id": "14672ccb",
   "metadata": {},
   "outputs": [],
   "source": [
    "cur_tree = trees[\"data/moment.js\"]\n",
    "print(f\"Filename: {cur_tree.filename}\")\n",
    "print(f\"Paths:\\n{cur_tree.get_paths_fancy()}\")"
   ]
  },
  {
   "cell_type": "code",
   "execution_count": null,
   "id": "af05d316",
   "metadata": {},
   "outputs": [],
   "source": []
  },
  {
   "cell_type": "markdown",
   "id": "f55272ff",
   "metadata": {},
   "source": [
    "#### `mute.js`"
   ]
  },
  {
   "cell_type": "code",
   "execution_count": null,
   "id": "63aa78e7",
   "metadata": {},
   "outputs": [],
   "source": [
    "cur_tree = trees[\"data/mute.js\"]\n",
    "print(f\"Filename: {cur_tree.filename}\")\n",
    "print(f\"Paths:\\n{cur_tree.get_paths_fancy()}\")"
   ]
  },
  {
   "cell_type": "code",
   "execution_count": null,
   "id": "43f81e84",
   "metadata": {},
   "outputs": [],
   "source": []
  },
  {
   "cell_type": "markdown",
   "id": "5b24ae32",
   "metadata": {},
   "source": [
    "#### `ni-devices.js`"
   ]
  },
  {
   "cell_type": "code",
   "execution_count": null,
   "id": "d57e0313",
   "metadata": {},
   "outputs": [],
   "source": [
    "cur_tree = trees[\"data/ni-devices.js\"]\n",
    "print(f\"Filename: {cur_tree.filename}\")\n",
    "print(f\"Paths:\\n{cur_tree.get_paths_fancy()}\")"
   ]
  },
  {
   "cell_type": "code",
   "execution_count": null,
   "id": "85037a53",
   "metadata": {},
   "outputs": [],
   "source": []
  },
  {
   "cell_type": "markdown",
   "id": "199ff87e",
   "metadata": {},
   "source": [
    "#### `periscope-broadcast-metadata.js`"
   ]
  },
  {
   "cell_type": "code",
   "execution_count": null,
   "id": "c4255ff0",
   "metadata": {},
   "outputs": [],
   "source": [
    "cur_tree = trees[\"data/periscope-broadcast-metadata.js\"]\n",
    "print(f\"Filename: {cur_tree.filename}\")\n",
    "print(f\"Paths:\\n{cur_tree.get_paths_fancy()}\")"
   ]
  },
  {
   "cell_type": "code",
   "execution_count": null,
   "id": "40c9f33e",
   "metadata": {},
   "outputs": [],
   "source": []
  },
  {
   "cell_type": "markdown",
   "id": "7a234c38",
   "metadata": {},
   "source": [
    "#### `periscope-comments-made-by-user.js`"
   ]
  },
  {
   "cell_type": "code",
   "execution_count": null,
   "id": "838fe3ee",
   "metadata": {},
   "outputs": [],
   "source": [
    "cur_tree = trees[\"data/periscope-comments-made-by-user.js\"]\n",
    "print(f\"Filename: {cur_tree.filename}\")\n",
    "print(f\"Paths:\\n{cur_tree.get_paths_fancy()}\")"
   ]
  },
  {
   "cell_type": "code",
   "execution_count": null,
   "id": "4d26735f",
   "metadata": {},
   "outputs": [],
   "source": []
  },
  {
   "cell_type": "markdown",
   "id": "3c9a23e9",
   "metadata": {},
   "source": [
    "#### `periscope-followers.js`"
   ]
  },
  {
   "cell_type": "code",
   "execution_count": null,
   "id": "d649d392",
   "metadata": {},
   "outputs": [],
   "source": [
    "cur_tree = trees[\"data/periscope-followers.js\"]\n",
    "print(f\"Filename: {cur_tree.filename}\")\n",
    "print(f\"Paths:\\n{cur_tree.get_paths_fancy()}\")"
   ]
  },
  {
   "cell_type": "code",
   "execution_count": null,
   "id": "0bae1b98",
   "metadata": {},
   "outputs": [],
   "source": []
  },
  {
   "cell_type": "markdown",
   "id": "13195c29",
   "metadata": {},
   "source": [
    "#### `periscope-profile-description.js`"
   ]
  },
  {
   "cell_type": "code",
   "execution_count": null,
   "id": "a9085a87",
   "metadata": {},
   "outputs": [],
   "source": [
    "cur_tree = trees[\"data/periscope-profile-description.js\"]\n",
    "print(f\"Filename: {cur_tree.filename}\")\n",
    "print(f\"Paths:\\n{cur_tree.get_paths_fancy()}\")"
   ]
  },
  {
   "cell_type": "code",
   "execution_count": null,
   "id": "77de1792",
   "metadata": {},
   "outputs": [],
   "source": []
  },
  {
   "cell_type": "markdown",
   "id": "da4ae4bb",
   "metadata": {},
   "source": [
    "#### `professional_data.js`\n",
    "\n",
    "Note: the real file name is `professional-data.js`, but the `README.txt` uses `professional_data.js`"
   ]
  },
  {
   "cell_type": "code",
   "execution_count": null,
   "id": "dc84db1a",
   "metadata": {},
   "outputs": [],
   "source": [
    "cur_tree = trees[\"data/professional-data.js\"]\n",
    "print(f\"Filename: {cur_tree.filename}\")\n",
    "print(f\"Paths:\\n{cur_tree.get_paths_fancy()}\")"
   ]
  },
  {
   "cell_type": "code",
   "execution_count": null,
   "id": "52078cf3",
   "metadata": {},
   "outputs": [],
   "source": []
  },
  {
   "cell_type": "markdown",
   "id": "51282db0",
   "metadata": {},
   "source": [
    "#### `profile.js`"
   ]
  },
  {
   "cell_type": "code",
   "execution_count": null,
   "id": "be5dd9d8",
   "metadata": {},
   "outputs": [],
   "source": [
    "cur_tree = trees[\"data/profile.js\"]\n",
    "print(f\"Filename: {cur_tree.filename}\")\n",
    "print(f\"Paths:\\n{cur_tree.get_paths_fancy()}\")"
   ]
  },
  {
   "cell_type": "code",
   "execution_count": null,
   "id": "67c65f5b",
   "metadata": {},
   "outputs": [],
   "source": []
  },
  {
   "cell_type": "markdown",
   "id": "0b21fe93",
   "metadata": {},
   "source": [
    "#### `protected-history.js`"
   ]
  },
  {
   "cell_type": "code",
   "execution_count": null,
   "id": "13f0d889",
   "metadata": {},
   "outputs": [],
   "source": [
    "cur_tree = trees[\"data/protected-history.js\"]\n",
    "print(f\"Filename: {cur_tree.filename}\")\n",
    "print(f\"Paths:\\n{cur_tree.get_paths_fancy()}\")"
   ]
  },
  {
   "cell_type": "code",
   "execution_count": null,
   "id": "20c80e26",
   "metadata": {},
   "outputs": [],
   "source": []
  },
  {
   "cell_type": "markdown",
   "id": "7eba6eb2",
   "metadata": {},
   "source": [
    "#### `reply-prompt.js`"
   ]
  },
  {
   "cell_type": "code",
   "execution_count": null,
   "id": "69ddd218",
   "metadata": {},
   "outputs": [],
   "source": [
    "cur_tree = trees[\"data/reply-prompt.js\"]\n",
    "print(f\"Filename: {cur_tree.filename}\")\n",
    "print(f\"Paths:\\n{cur_tree.get_paths_fancy()}\")"
   ]
  },
  {
   "cell_type": "code",
   "execution_count": null,
   "id": "aa0a5e36",
   "metadata": {},
   "outputs": [],
   "source": []
  },
  {
   "cell_type": "markdown",
   "id": "7a57aa12",
   "metadata": {},
   "source": [
    "#### `saved-search.js`"
   ]
  },
  {
   "cell_type": "code",
   "execution_count": null,
   "id": "1951a636",
   "metadata": {},
   "outputs": [],
   "source": [
    "cur_tree = trees[\"data/saved-search.js\"]\n",
    "print(f\"Filename: {cur_tree.filename}\")\n",
    "print(f\"Paths:\\n{cur_tree.get_paths_fancy()}\")"
   ]
  },
  {
   "cell_type": "code",
   "execution_count": null,
   "id": "0138e938",
   "metadata": {},
   "outputs": [],
   "source": []
  },
  {
   "cell_type": "markdown",
   "id": "17ec44da",
   "metadata": {},
   "source": [
    "#### `smartblock.js`"
   ]
  },
  {
   "cell_type": "code",
   "execution_count": null,
   "id": "509d35c4",
   "metadata": {},
   "outputs": [],
   "source": [
    "cur_tree = trees[\"data/smartblock.js\"]\n",
    "print(f\"Filename: {cur_tree.filename}\")\n",
    "print(f\"Paths:\\n{cur_tree.get_paths_fancy()}\")"
   ]
  },
  {
   "cell_type": "code",
   "execution_count": null,
   "id": "5d2a5fb0",
   "metadata": {},
   "outputs": [],
   "source": []
  },
  {
   "cell_type": "markdown",
   "id": "bde929cc",
   "metadata": {},
   "source": [
    "#### `tweet.js`"
   ]
  },
  {
   "cell_type": "code",
   "execution_count": null,
   "id": "7b04067e",
   "metadata": {},
   "outputs": [],
   "source": [
    "cur_tree = trees[\"data/tweet.js\"]\n",
    "print(f\"Filename: {cur_tree.filename}\")\n",
    "print(f\"Paths:\\n{cur_tree.get_paths_fancy()}\")"
   ]
  },
  {
   "cell_type": "code",
   "execution_count": null,
   "id": "dd43311d",
   "metadata": {},
   "outputs": [],
   "source": []
  },
  {
   "cell_type": "markdown",
   "id": "1f6cd82f",
   "metadata": {},
   "source": [
    "#### `tweetdeck.js`"
   ]
  },
  {
   "cell_type": "code",
   "execution_count": null,
   "id": "c4b3ebbd",
   "metadata": {},
   "outputs": [],
   "source": [
    "cur_tree = trees[\"data/tweetdeck.js\"]\n",
    "print(f\"Filename: {cur_tree.filename}\")\n",
    "print(f\"Paths:\\n{cur_tree.get_paths_fancy()}\")"
   ]
  },
  {
   "cell_type": "code",
   "execution_count": null,
   "id": "be1971eb",
   "metadata": {},
   "outputs": [],
   "source": []
  },
  {
   "cell_type": "markdown",
   "id": "46b631f5",
   "metadata": {},
   "source": [
    "#### `user-link-clicks.js`"
   ]
  },
  {
   "cell_type": "code",
   "execution_count": null,
   "id": "b6c94f89",
   "metadata": {},
   "outputs": [],
   "source": [
    "cur_tree = trees[\"data/user-link-clicks.js\"]\n",
    "print(f\"Filename: {cur_tree.filename}\")\n",
    "print(f\"Paths:\\n{cur_tree.get_paths_fancy()}\")"
   ]
  },
  {
   "cell_type": "code",
   "execution_count": null,
   "id": "c7252713",
   "metadata": {},
   "outputs": [],
   "source": []
  },
  {
   "cell_type": "markdown",
   "id": "f4b9a078",
   "metadata": {},
   "source": [
    "#### `verified.js`"
   ]
  },
  {
   "cell_type": "code",
   "execution_count": null,
   "id": "d772d457",
   "metadata": {},
   "outputs": [],
   "source": [
    "cur_tree = trees[\"data/verified.js\"]\n",
    "print(f\"Filename: {cur_tree.filename}\")\n",
    "print(f\"Paths:\\n{cur_tree.get_paths_fancy()}\")"
   ]
  },
  {
   "cell_type": "code",
   "execution_count": null,
   "id": "2725e7d8",
   "metadata": {},
   "outputs": [],
   "source": []
  },
  {
   "cell_type": "markdown",
   "id": "558e97ec",
   "metadata": {},
   "source": [
    "### \"INFERENCES\"\n",
    "\n",
    "\"(Inferences drawn to create a profile about the user reflecting their preferences, characteristics, predispositions, behavior, and attitudes)\""
   ]
  },
  {
   "cell_type": "markdown",
   "id": "2d96d07d",
   "metadata": {},
   "source": [
    "#### `personalization.js`"
   ]
  },
  {
   "cell_type": "code",
   "execution_count": null,
   "id": "71c8259f",
   "metadata": {},
   "outputs": [],
   "source": [
    "cur_tree = trees[\"data/personalization.js\"]\n",
    "print(f\"Filename: {cur_tree.filename}\")\n",
    "print(f\"Paths:\\n{cur_tree.get_paths_fancy()}\")"
   ]
  },
  {
   "cell_type": "code",
   "execution_count": null,
   "id": "91a5560f",
   "metadata": {},
   "outputs": [],
   "source": []
  },
  {
   "cell_type": "markdown",
   "id": "2c84ab7a",
   "metadata": {},
   "source": [
    "### \"PROTECTED CLASSIFICATIONS\"\n",
    "\n",
    "\"(Characteristics of certain legally protected classifications.)\"\n",
    "\n",
    "\"For information about the language(s), gender, and age associated with the account (which may be inferred), please refer to [personalization.js](#personalization.js).\""
   ]
  },
  {
   "cell_type": "markdown",
   "id": "393949a8",
   "metadata": {},
   "source": [
    "#### `ageinfo.js`"
   ]
  },
  {
   "cell_type": "code",
   "execution_count": null,
   "id": "af5744c7",
   "metadata": {
    "scrolled": true
   },
   "outputs": [],
   "source": [
    "cur_tree = trees[\"data/ageinfo.js\"]\n",
    "print(f\"Filename: {cur_tree.filename}\")\n",
    "print(f\"Paths:\\n{cur_tree.get_paths_fancy()}\")"
   ]
  },
  {
   "cell_type": "code",
   "execution_count": null,
   "id": "98a685b5",
   "metadata": {},
   "outputs": [],
   "source": []
  },
  {
   "cell_type": "markdown",
   "id": "aa088778",
   "metadata": {},
   "source": [
    "### \"LOCATION DATA\"\n",
    "\"For location data associated with the account, please refer to location in [profile.js](#profile.js) and locationHistory in [personalization.js](#personalization.js). For information about a Periscope broadcast location, please refer to [periscope-broadcast-metadata.js](#periscope-broadcast-metadata.js).\""
   ]
  },
  {
   "cell_type": "markdown",
   "id": "76980ea9",
   "metadata": {},
   "source": [
    "### And 2 more\n",
    "\n",
    "Two files are not described in the `README.txt`, namely, `manifest.js` and `sso.js` - we can see that using the following bash command inside of `data/`:\n",
    "```\n",
    "diff <(cat README.txt | grep \"^.*\\.js$\" | sort) <(ls -1 *.js | sort)\n",
    "```"
   ]
  },
  {
   "cell_type": "markdown",
   "id": "a635517f",
   "metadata": {},
   "source": [
    "#### `manifest.js`"
   ]
  },
  {
   "cell_type": "code",
   "execution_count": null,
   "id": "57dec280",
   "metadata": {
    "scrolled": true
   },
   "outputs": [],
   "source": [
    "cur_tree = trees[\"data/manifest.js\"]\n",
    "print(f\"Filename: {cur_tree.filename}\")\n",
    "print(f\"Paths:\\n{cur_tree.get_paths_fancy()}\")"
   ]
  },
  {
   "cell_type": "markdown",
   "id": "af035701",
   "metadata": {},
   "source": [
    "#### `sso.js`"
   ]
  },
  {
   "cell_type": "code",
   "execution_count": null,
   "id": "d0be66d4",
   "metadata": {
    "scrolled": true
   },
   "outputs": [],
   "source": [
    "cur_tree = trees[\"data/sso.js\"]\n",
    "print(f\"Filename: {cur_tree.filename}\")\n",
    "print(f\"Paths:\\n{cur_tree.get_paths_fancy()}\")"
   ]
  },
  {
   "cell_type": "markdown",
   "id": "adecffa9",
   "metadata": {},
   "source": [
    "Note: No data available."
   ]
  },
  {
   "cell_type": "markdown",
   "id": "5bdafae2",
   "metadata": {},
   "source": [
    "---"
   ]
  },
  {
   "cell_type": "markdown",
   "id": "d1daa652",
   "metadata": {},
   "source": [
    "## Model\n",
    "\n",
    "- We are now creating the Model based on the different trees.\n",
    "- This Model will contains all our definitions, along with the correct paths."
   ]
  },
  {
   "cell_type": "code",
   "execution_count": null,
   "id": "8f67cc64",
   "metadata": {},
   "outputs": [],
   "source": [
    "from argonodes.models import Model\n",
    "model = Model(trees=trees.values(), name=\"Twitter\")"
   ]
  },
  {
   "cell_type": "code",
   "execution_count": null,
   "id": "346565ca",
   "metadata": {
    "scrolled": false
   },
   "outputs": [],
   "source": [
    "model.changes[-1]"
   ]
  },
  {
   "cell_type": "markdown",
   "id": "471c4772",
   "metadata": {},
   "source": [
    "### Exporting the Models"
   ]
  },
  {
   "cell_type": "code",
   "execution_count": null,
   "id": "74ff7bdf",
   "metadata": {},
   "outputs": [],
   "source": [
    "model.export_traversal(filename=\"../models/Twitter.md\", scheme=\"markdown\")"
   ]
  },
  {
   "cell_type": "code",
   "execution_count": null,
   "id": "d55992be",
   "metadata": {},
   "outputs": [],
   "source": [
    "model.export_traversal(filename=\"../models/Twitter.json\", scheme=\"json\")"
   ]
  },
  {
   "cell_type": "markdown",
   "id": "b50c2177",
   "metadata": {},
   "source": [
    "#### Preview"
   ]
  },
  {
   "cell_type": "code",
   "execution_count": null,
   "id": "31c2f650",
   "metadata": {},
   "outputs": [],
   "source": [
    "model.export_traversal(scheme=\"markdown\")"
   ]
  },
  {
   "cell_type": "code",
   "execution_count": null,
   "id": "31f90a71",
   "metadata": {},
   "outputs": [],
   "source": [
    "model.load_traversal(\"../models/Twitter.csv\")"
   ]
  },
  {
   "cell_type": "code",
   "execution_count": null,
   "id": "064ad90b",
   "metadata": {},
   "outputs": [],
   "source": [
    "model"
   ]
  },
  {
   "cell_type": "code",
   "execution_count": null,
   "id": "86fa0c76",
   "metadata": {},
   "outputs": [],
   "source": []
  }
 ],
 "metadata": {
  "kernelspec": {
   "display_name": "Python 3 (ipykernel)",
   "language": "python",
   "name": "python3"
  },
  "language_info": {
   "codemirror_mode": {
    "name": "ipython",
    "version": 3
   },
   "file_extension": ".py",
   "mimetype": "text/x-python",
   "name": "python",
   "nbconvert_exporter": "python",
   "pygments_lexer": "ipython3",
   "version": "3.10.4"
  }
 },
 "nbformat": 4,
 "nbformat_minor": 5
}
