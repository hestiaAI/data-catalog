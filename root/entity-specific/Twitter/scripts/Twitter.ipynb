{
 "cells": [
  {
   "cell_type": "code",
   "execution_count": 1,
   "id": "b4d68a61",
   "metadata": {},
   "outputs": [],
   "source": [
    "%load_ext autoreload\n",
    "%autoreload 2"
   ]
  },
  {
   "cell_type": "code",
   "execution_count": 2,
   "id": "a8bfcb3d",
   "metadata": {},
   "outputs": [],
   "source": [
    "import json\n",
    "from pprint import pprint\n",
    "import pandas as pd\n",
    "from os.path import exists"
   ]
  },
  {
   "cell_type": "code",
   "execution_count": 3,
   "id": "7130573e",
   "metadata": {},
   "outputs": [],
   "source": [
    "from argonodes.nodes import NA"
   ]
  },
  {
   "cell_type": "code",
   "execution_count": 4,
   "id": "015f9eed",
   "metadata": {},
   "outputs": [],
   "source": [
    "from argonodes.models import Model"
   ]
  },
  {
   "cell_type": "code",
   "execution_count": 5,
   "id": "1d7053cf",
   "metadata": {},
   "outputs": [],
   "source": [
    "model = Model()"
   ]
  },
  {
   "cell_type": "code",
   "execution_count": 6,
   "id": "f40ae235",
   "metadata": {},
   "outputs": [],
   "source": [
    "model.import_from_csv(filename=\"Twitter.csv\")"
   ]
  },
  {
   "cell_type": "code",
   "execution_count": 7,
   "id": "d52ffc97",
   "metadata": {},
   "outputs": [
    {
     "name": "stdout",
     "output_type": "stream",
     "text": [
      "Warning: .jsonld will automatically be added at the end of the file name.\n",
      "Result will thus be ./Twitter.jsonld.\n"
     ]
    }
   ],
   "source": [
    "from argonodes.exporters import JSONLDExporter\n",
    "exporter = JSONLDExporter(\"./Twitter\")\n",
    "model.export(exporter)"
   ]
  },
  {
   "cell_type": "code",
   "execution_count": 8,
   "id": "6b576202",
   "metadata": {},
   "outputs": [
    {
     "name": "stdout",
     "output_type": "stream",
     "text": [
      "Warning: .md will automatically be added at the end of the file name.\n",
      "Result will thus be ./Twitter.md.\n"
     ]
    }
   ],
   "source": [
    "from argonodes.exporters import MarkdownExporter\n",
    "exporter = MarkdownExporter(\"./Twitter\")\n",
    "model.export(exporter)"
   ]
  },
  {
   "cell_type": "code",
   "execution_count": null,
   "id": "c9fa1112",
   "metadata": {},
   "outputs": [],
   "source": []
  }
 ],
 "metadata": {
  "kernelspec": {
   "display_name": "Python 3 (ipykernel)",
   "language": "python",
   "name": "python3"
  },
  "language_info": {
   "codemirror_mode": {
    "name": "ipython",
    "version": 3
   },
   "file_extension": ".py",
   "mimetype": "text/x-python",
   "name": "python",
   "nbconvert_exporter": "python",
   "pygments_lexer": "ipython3",
   "version": "3.10.4"
  }
 },
 "nbformat": 4,
 "nbformat_minor": 5
}
