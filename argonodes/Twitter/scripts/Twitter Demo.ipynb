{
 "cells": [
  {
   "cell_type": "markdown",
   "id": "1a977ab6",
   "metadata": {},
   "source": [
    "## Imports"
   ]
  },
  {
   "cell_type": "code",
   "execution_count": null,
   "id": "523c5799",
   "metadata": {},
   "outputs": [],
   "source": [
    "%load_ext autoreload\n",
    "%autoreload 2"
   ]
  },
  {
   "cell_type": "code",
   "execution_count": null,
   "id": "e688d8f0",
   "metadata": {},
   "outputs": [],
   "source": [
    "import json\n",
    "from pprint import pprint"
   ]
  },
  {
   "cell_type": "code",
   "execution_count": null,
   "id": "2390e464",
   "metadata": {},
   "outputs": [],
   "source": [
    "zipfilename = \"../inputs/twitter-2022-02-17-cf8888eb631a941f287fbfec1a2662e1127775f1ba68efad59880f2fafdcfea7.zip\""
   ]
  },
  {
   "cell_type": "markdown",
   "id": "0dc5c49e",
   "metadata": {},
   "source": [
    "## Parsing\n",
    "\n",
    "- We are parsing the ZIP from Twitter, using a ZIPParser with a TwitterJSParser as argument.\n",
    "- This parsing will return a list of Trees to explore."
   ]
  },
  {
   "cell_type": "code",
   "execution_count": null,
   "id": "c0790694",
   "metadata": {
    "scrolled": true
   },
   "outputs": [],
   "source": [
    "from argonodes.parsers import ZIPParser, TwitterJSParser\n",
    "zipparser = ZIPParser(parser=TwitterJSParser, regex=r\"data\\/.*\\.js$\", extension=\"js\", verbose=1)\n",
    "trees = zipparser(zipfilename)"
   ]
  },
  {
   "cell_type": "markdown",
   "id": "0c079939",
   "metadata": {},
   "source": [
    "## Tree exploration\n",
    "\n",
    "- For each Tree, we do a bit of exploration, and try to add informations."
   ]
  },
  {
   "cell_type": "code",
   "execution_count": null,
   "id": "6794eaab",
   "metadata": {},
   "outputs": [],
   "source": [
    "from argonodes.nodes import NA"
   ]
  },
  {
   "cell_type": "markdown",
   "id": "3ed8664f",
   "metadata": {},
   "source": [
    "### Installing facultative imports\n",
    "\n",
    "We are going to use FoundRegex, which uses an external package, `tdda`."
   ]
  },
  {
   "cell_type": "code",
   "execution_count": null,
   "id": "b3d7b335",
   "metadata": {},
   "outputs": [],
   "source": [
    "from argonodes.appliers import FoundRegex\n",
    "found_regex = FoundRegex()"
   ]
  },
  {
   "cell_type": "markdown",
   "id": "fc15c780",
   "metadata": {},
   "source": [
    "#### Do we have some pattern?\n",
    "\n",
    "We are going to do a \"full example\" using FoundRegex, but sometimes you do not need it at all."
   ]
  },
  {
   "cell_type": "code",
   "execution_count": null,
   "id": "f888cbe7",
   "metadata": {
    "scrolled": true
   },
   "outputs": [],
   "source": [
    "from datetime import datetime\n",
    "\n",
    "print(datetime.now())\n",
    "total = len(trees)\n",
    "for i, (name, tree) in enumerate(trees.items()):\n",
    "    found_regex(tree)\n",
    "    print(f\"{datetime.now()}: {i+1}/{total}: {name}\")\n",
    "#     if i == 3:  # Because it can take some time...\n",
    "#         break\n",
    "pprint(found_regex.data)"
   ]
  },
  {
   "cell_type": "markdown",
   "id": "2d70f10a",
   "metadata": {},
   "source": [
    "We are going to follow the order of the `README.txt` file provied by Twitter in that case."
   ]
  },
  {
   "cell_type": "markdown",
   "id": "a6bac44d",
   "metadata": {},
   "source": [
    "### \"SENSORY INFORMATION\"\n",
    "\n",
    "\"(Audio, electronic, visual, and similar information)\""
   ]
  },
  {
   "cell_type": "markdown",
   "id": "85d37b14",
   "metadata": {},
   "source": [
    "#### `periscope-expired-broadcasts.js`"
   ]
  },
  {
   "cell_type": "code",
   "execution_count": null,
   "id": "3b544595",
   "metadata": {},
   "outputs": [],
   "source": [
    "cur_tree = trees[\"data/periscope-expired-broadcasts.js\"]\n",
    "print(f\"Filename: {cur_tree.filename}\")\n",
    "print(f\"Paths:\\n{cur_tree.get_paths_fancy()}\")"
   ]
  },
  {
   "cell_type": "markdown",
   "id": "d23cad76",
   "metadata": {},
   "source": [
    "Note: No data available, but according to the README:\n",
    "\n",
    "- broadcastIds: A list of the broadcast IDs posted by the shell account that have expired and cannot be encoded.\n",
    "- reason: Explanation of why broadcast replay files are unavailable (hard-coded)."
   ]
  },
  {
   "cell_type": "markdown",
   "id": "2ba0294f",
   "metadata": {},
   "source": [
    "#### `spaces-metadata.js`"
   ]
  },
  {
   "cell_type": "code",
   "execution_count": null,
   "id": "d0fbdc1b",
   "metadata": {},
   "outputs": [],
   "source": [
    "cur_tree = trees[\"data/spaces-metadata.js\"]\n",
    "print(f\"Filename: {cur_tree.filename}\")\n",
    "print(f\"Paths:\\n{cur_tree.get_paths_fancy()}\")"
   ]
  },
  {
   "cell_type": "markdown",
   "id": "6c1a75cc",
   "metadata": {},
   "source": [
    "Note: No data available, but according to the README:\n",
    "\n",
    "- id: Unique id for the space.\n",
    "- creatorUserId: The space creator’s Twitter user ID.\n",
    "- hostUserIds: Twitter user IDs of users that have admin/moderator authorization of this space.\n",
    "- speakers: Users that have participated in this space. It includes participants’ Twitter user IDs and start/end time of their spoken sessions. If data archive is generated at the time the space is live, it will include only the active speakers at the moment. If space has finished, then it will include everyone that participated.\n",
    "- createdAt: Space creation time.\n",
    "- endedAt: Space end time.\n",
    "- totalParticipating: Total number of users participating in the space when the data archive is generated.\n",
    "- totalParticipated: Total number of users that have participated in this space.\n",
    "- invitedUserIds: Twitter user IDs of users that are chosen by the host through space conversation control."
   ]
  },
  {
   "cell_type": "markdown",
   "id": "b7fe0b92",
   "metadata": {},
   "source": [
    "### \"IDENTIFIERS\"\n",
    "\n",
    "\"(Real name, alias, postal address, telephone number, unique identifiers (such as a device identifier, cookies, mobile ad identifiers), customer number, Internet Protocol address, email address, account name, and other similar identifiers)\""
   ]
  },
  {
   "cell_type": "markdown",
   "id": "efd5e1e9",
   "metadata": {},
   "source": [
    "#### `account-creation-ip.js`"
   ]
  },
  {
   "cell_type": "code",
   "execution_count": null,
   "id": "5e3d8b91",
   "metadata": {
    "scrolled": true
   },
   "outputs": [],
   "source": [
    "cur_tree = trees[\"data/account-creation-ip.js\"]\n",
    "print(f\"Filename: {cur_tree.filename}\")\n",
    "print(f\"Paths:\\n{cur_tree.get_paths_fancy()}\")"
   ]
  },
  {
   "cell_type": "code",
   "execution_count": null,
   "id": "7ec171e2",
   "metadata": {
    "scrolled": true
   },
   "outputs": [],
   "source": [
    "cur_tree.set_attributes(\n",
    "    \"data/account-creation-ip.js:$\",\n",
    "    descriptiveType=NA,\n",
    "    unique=True,\n",
    "    default=NA,\n",
    "    description=\"What IP was used to create that account.\",\n",
    "    choices=NA,\n",
    "    regex=NA,\n",
    ")"
   ]
  },
  {
   "cell_type": "code",
   "execution_count": null,
   "id": "7b8d2ec8",
   "metadata": {
    "scrolled": true
   },
   "outputs": [],
   "source": [
    "cur_tree.set_attributes(\n",
    "    \"data/account-creation-ip.js:$[*].accountCreationIp.accountId\",\n",
    "    descriptiveType=\"https://schema.org/identifier\",\n",
    "    unique=True,\n",
    "    default=NA,\n",
    "    description=\"Unique identifier for the account.\",\n",
    "    choices=NA,\n",
    "    regex=NA,\n",
    ")"
   ]
  },
  {
   "cell_type": "code",
   "execution_count": null,
   "id": "7f86e158",
   "metadata": {
    "scrolled": true
   },
   "outputs": [],
   "source": [
    "cur_tree.set_attributes(\n",
    "    \"data/account-creation-ip.js:$[*].accountCreationIp.userCreationIp\",\n",
    "    descriptiveType=\"https://github.com/hestiaAI/Argonodes/wiki/General:IPv4\",\n",
    "    unique=True,\n",
    "    default=NA,\n",
    "    description=\"IP address at account creation.\",\n",
    "    choices=NA,\n",
    "    regex=[r\"(\\b25[0-5]|\\b2[0-4][0-9]|\\b[01]?[0-9][0-9]?)(\\.(25[0-5]|2[0-4][0-9]|[01]?[0-9][0-9]?)){3}\"],\n",
    ")"
   ]
  },
  {
   "cell_type": "markdown",
   "id": "410e459f",
   "metadata": {},
   "source": [
    "#### `contact.js`"
   ]
  },
  {
   "cell_type": "code",
   "execution_count": null,
   "id": "5f7c65d7",
   "metadata": {},
   "outputs": [],
   "source": [
    "cur_tree = trees[\"data/contact.js\"]\n",
    "print(f\"Filename: {cur_tree.filename}\")\n",
    "print(f\"Paths:\\n{cur_tree.get_paths_fancy()}\")"
   ]
  },
  {
   "cell_type": "markdown",
   "id": "0d5ff9bd",
   "metadata": {},
   "source": [
    "Note: No data available, but according to the README:\n",
    "\n",
    "- id: Unique identifiers for the contacts imported to the account.\n",
    "- emails: Emails of the contacts imported to the account.\n",
    "- phoneNumbers: Phone numbers of the contacts imported to the account."
   ]
  },
  {
   "cell_type": "markdown",
   "id": "56c879e9",
   "metadata": {},
   "source": [
    "#### `email-address-change.js`"
   ]
  },
  {
   "cell_type": "code",
   "execution_count": null,
   "id": "a4d18d27",
   "metadata": {},
   "outputs": [],
   "source": [
    "cur_tree = trees[\"data/email-address-change.js\"]\n",
    "print(f\"Filename: {cur_tree.filename}\")\n",
    "print(f\"Paths:\\n{cur_tree.get_paths_fancy()}\")"
   ]
  },
  {
   "cell_type": "code",
   "execution_count": null,
   "id": "d5a33746",
   "metadata": {},
   "outputs": [],
   "source": []
  },
  {
   "cell_type": "markdown",
   "id": "6483f56d",
   "metadata": {},
   "source": [
    "#### `ip-audit.js`"
   ]
  },
  {
   "cell_type": "code",
   "execution_count": null,
   "id": "cb6b8d39",
   "metadata": {},
   "outputs": [],
   "source": [
    "cur_tree = trees[\"data/ip-audit.js\"]\n",
    "print(f\"Filename: {cur_tree.filename}\")\n",
    "print(f\"Paths:\\n{cur_tree.get_paths_fancy()}\")"
   ]
  },
  {
   "cell_type": "code",
   "execution_count": null,
   "id": "182baa50",
   "metadata": {},
   "outputs": [],
   "source": []
  },
  {
   "cell_type": "markdown",
   "id": "5c68e7d5",
   "metadata": {},
   "source": [
    "#### `periscope-account-information.js`"
   ]
  },
  {
   "cell_type": "code",
   "execution_count": null,
   "id": "a271adde",
   "metadata": {},
   "outputs": [],
   "source": [
    "cur_tree = trees[\"data/periscope-account-information.js\"]\n",
    "print(f\"Filename: {cur_tree.filename}\")\n",
    "print(f\"Paths:\\n{cur_tree.get_paths_fancy()}\")"
   ]
  },
  {
   "cell_type": "code",
   "execution_count": null,
   "id": "f7899fec",
   "metadata": {},
   "outputs": [],
   "source": []
  },
  {
   "cell_type": "markdown",
   "id": "5a69cd31",
   "metadata": {},
   "source": [
    "#### `periscope-ban-information.js`"
   ]
  },
  {
   "cell_type": "code",
   "execution_count": null,
   "id": "6aa62c2c",
   "metadata": {},
   "outputs": [],
   "source": [
    "cur_tree = trees[\"data/periscope-ban-information.js\"]\n",
    "print(f\"Filename: {cur_tree.filename}\")\n",
    "print(f\"Paths:\\n{cur_tree.get_paths_fancy()}\")"
   ]
  },
  {
   "cell_type": "code",
   "execution_count": null,
   "id": "3a2bbdb0",
   "metadata": {},
   "outputs": [],
   "source": []
  },
  {
   "cell_type": "markdown",
   "id": "2be31711",
   "metadata": {},
   "source": [
    "#### `phone-number.js`"
   ]
  },
  {
   "cell_type": "code",
   "execution_count": null,
   "id": "1b4189a1",
   "metadata": {},
   "outputs": [],
   "source": [
    "cur_tree = trees[\"data/phone-number.js\"]\n",
    "print(f\"Filename: {cur_tree.filename}\")\n",
    "print(f\"Paths:\\n{cur_tree.get_paths_fancy()}\")"
   ]
  },
  {
   "cell_type": "code",
   "execution_count": null,
   "id": "460490e5",
   "metadata": {},
   "outputs": [],
   "source": []
  },
  {
   "cell_type": "markdown",
   "id": "f72d36f9",
   "metadata": {},
   "source": [
    "#### `screen-name-change.js`"
   ]
  },
  {
   "cell_type": "code",
   "execution_count": null,
   "id": "cc31e72c",
   "metadata": {},
   "outputs": [],
   "source": [
    "cur_tree = trees[\"data/screen-name-change.js\"]\n",
    "print(f\"Filename: {cur_tree.filename}\")\n",
    "print(f\"Paths:\\n{cur_tree.get_paths_fancy()}\")"
   ]
  },
  {
   "cell_type": "code",
   "execution_count": null,
   "id": "327ab118",
   "metadata": {},
   "outputs": [],
   "source": []
  },
  {
   "cell_type": "markdown",
   "id": "72d41254",
   "metadata": {},
   "source": [
    "### \"ONLINE ACTIVITY\"\n",
    "\n",
    "\"(Internet and other electronic network activity information, including, but not limited to, information regarding interactions with websites, applications, or advertisements)\""
   ]
  },
  {
   "cell_type": "markdown",
   "id": "df629742",
   "metadata": {},
   "source": [
    "#### `account-suspension.js`"
   ]
  },
  {
   "cell_type": "code",
   "execution_count": null,
   "id": "a96b122b",
   "metadata": {},
   "outputs": [],
   "source": [
    "cur_tree = trees[\"data/account-suspension.js\"]\n",
    "print(f\"Filename: {cur_tree.filename}\")\n",
    "print(f\"Paths:\\n{cur_tree.get_paths_fancy()}\")"
   ]
  },
  {
   "cell_type": "markdown",
   "id": "ee1f4d56",
   "metadata": {},
   "source": [
    "Note: No data available, but according to the README:\n",
    "\n",
    "- timeStamp: Date and time of a suspension action.\n",
    "- action: Action taken regarding account suspension. Accounts are unsuspended by default. This file will be empty unless the account was suspended at some point."
   ]
  },
  {
   "cell_type": "markdown",
   "id": "6500805b",
   "metadata": {},
   "source": [
    "#### `account-timezone.js`"
   ]
  },
  {
   "cell_type": "code",
   "execution_count": null,
   "id": "d802c539",
   "metadata": {},
   "outputs": [],
   "source": [
    "cur_tree = trees[\"data/account-timezone.js\"]\n",
    "print(f\"Filename: {cur_tree.filename}\")\n",
    "print(f\"Paths:\\n{cur_tree.get_paths_fancy()}\")"
   ]
  },
  {
   "cell_type": "code",
   "execution_count": null,
   "id": "3bb8fb53",
   "metadata": {},
   "outputs": [],
   "source": []
  },
  {
   "cell_type": "markdown",
   "id": "e0f3bdf6",
   "metadata": {},
   "source": [
    "#### `account.js`"
   ]
  },
  {
   "cell_type": "code",
   "execution_count": null,
   "id": "cecec469",
   "metadata": {},
   "outputs": [],
   "source": [
    "cur_tree = trees[\"data/account.js\"]\n",
    "print(f\"Filename: {cur_tree.filename}\")\n",
    "print(f\"Paths:\\n{cur_tree.get_paths_fancy()}\")"
   ]
  },
  {
   "cell_type": "code",
   "execution_count": null,
   "id": "93be800e",
   "metadata": {},
   "outputs": [],
   "source": []
  },
  {
   "cell_type": "markdown",
   "id": "2ec947af",
   "metadata": {},
   "source": [
    "#### `ad-engagements.js`"
   ]
  },
  {
   "cell_type": "code",
   "execution_count": null,
   "id": "3a3aa244",
   "metadata": {},
   "outputs": [],
   "source": [
    "cur_tree = trees[\"data/ad-engagements.js\"]\n",
    "print(f\"Filename: {cur_tree.filename}\")\n",
    "print(f\"Paths:\\n{cur_tree.get_paths_fancy()}\")"
   ]
  },
  {
   "cell_type": "code",
   "execution_count": null,
   "id": "4e0dd4b4",
   "metadata": {},
   "outputs": [],
   "source": []
  },
  {
   "cell_type": "markdown",
   "id": "7e691db2",
   "metadata": {},
   "source": [
    "#### `ad-impressions.js`"
   ]
  },
  {
   "cell_type": "code",
   "execution_count": null,
   "id": "9e0f8fb3",
   "metadata": {},
   "outputs": [],
   "source": [
    "cur_tree = trees[\"data/ad-impressions.js\"]\n",
    "print(f\"Filename: {cur_tree.filename}\")\n",
    "print(f\"Paths:\\n{cur_tree.get_paths_fancy()}\")"
   ]
  },
  {
   "cell_type": "code",
   "execution_count": null,
   "id": "be37bef2",
   "metadata": {},
   "outputs": [],
   "source": []
  },
  {
   "cell_type": "markdown",
   "id": "d5e5e19c",
   "metadata": {},
   "source": [
    "#### `ad-mobile-conversions-attributed.js`"
   ]
  },
  {
   "cell_type": "code",
   "execution_count": null,
   "id": "a1504691",
   "metadata": {},
   "outputs": [],
   "source": [
    "cur_tree = trees[\"data/ad-mobile-conversions-attributed.js\"]\n",
    "print(f\"Filename: {cur_tree.filename}\")\n",
    "print(f\"Paths:\\n{cur_tree.get_paths_fancy()}\")"
   ]
  },
  {
   "cell_type": "markdown",
   "id": "754a6fb0",
   "metadata": {},
   "source": [
    "Note: No data available, but according to the README:\n",
    "\n",
    "- ad: Mobile application events associated with the account in the last 90 days which are attributable to a Promoted Tweet engagement on Twitter.\n",
    "- attributedConversionType: Type of activity specifically associated with the event.\n",
    "- mobilePlatform: Platform on which the event happened. For example: iOS or Android.\n",
    "- conversionEvent: Information about the event itself such as installing or signing up.\n",
    "- applicationName: Name of the application in which the event occurred.\n",
    "- conversionValue: Value associated with the event.\n",
    "- conversionTime: Date and time of the event.\n",
    "- additionalParameters: Other optional parameters associated with the event such as a currency or product category."
   ]
  },
  {
   "cell_type": "markdown",
   "id": "232caa1e",
   "metadata": {},
   "source": [
    "#### `ad-mobile-conversions-unattributed.js`"
   ]
  },
  {
   "cell_type": "code",
   "execution_count": null,
   "id": "4d665a9b",
   "metadata": {},
   "outputs": [],
   "source": [
    "cur_tree = trees[\"data/ad-mobile-conversions-unattributed.js\"]\n",
    "print(f\"Filename: {cur_tree.filename}\")\n",
    "print(f\"Paths:\\n{cur_tree.get_paths_fancy()}\")"
   ]
  },
  {
   "cell_type": "markdown",
   "id": "631fde69",
   "metadata": {},
   "source": [
    "Note: No data available, but according to the README:\n",
    "\n",
    "- ad: Mobile application events associated with the account in the last 10 days which may become attributable to a Promoted Tweet engagement on Twitter in the future.\n",
    "- mobilePlatform: Platform on which the event happened. For example: iOS or Android.\n",
    "- conversionEvent: Information about the event itself such as installing or signing up.\n",
    "- applicationName: Name of the application in which the event occurred.\n",
    "- conversionValue: Value associated with the event.\n",
    "- conversionTime: Date and time of the event.\n",
    "- additionalParameters: Other optional parameters associated with the event such as a currency."
   ]
  },
  {
   "cell_type": "markdown",
   "id": "c0dd4d49",
   "metadata": {},
   "source": [
    "#### `ad-online-conversions-attributed.js`"
   ]
  },
  {
   "cell_type": "code",
   "execution_count": null,
   "id": "3521af07",
   "metadata": {},
   "outputs": [],
   "source": [
    "cur_tree = trees[\"data/ad-online-conversions-attributed.js\"]\n",
    "print(f\"Filename: {cur_tree.filename}\")\n",
    "print(f\"Paths:\\n{cur_tree.get_paths_fancy()}\")"
   ]
  },
  {
   "cell_type": "markdown",
   "id": "3245b659",
   "metadata": {},
   "source": [
    "Note: No data available, but according to the README:\n",
    "\n",
    "- ad: Web events associated with the account in the last 90 days which are attributable to a Promoted Tweet engagement on Twitter.\n",
    "- attributedConversionType: Type of activity specifically associated with the event.\n",
    "- eventType: Information about the event itself such as viewing a page.\n",
    "- conversionPlatform: Platform on which the event happened. For example: desktop.\n",
    "- advertiserInfo: Advertiser name and screen name.\n",
    "- conversionValue: Value associated with the event.\n",
    "- conversionTime: Date and time of the event.\n",
    "- additionalParameters: Other optional parameters associated with the event such as a currency or product category."
   ]
  },
  {
   "cell_type": "markdown",
   "id": "a261ab50",
   "metadata": {},
   "source": [
    "#### `ad-online-conversions-unattributed.js`"
   ]
  },
  {
   "cell_type": "code",
   "execution_count": null,
   "id": "659dc1c2",
   "metadata": {},
   "outputs": [],
   "source": [
    "cur_tree = trees[\"data/ad-online-conversions-unattributed.js\"]\n",
    "print(f\"Filename: {cur_tree.filename}\")\n",
    "print(f\"Paths:\\n{cur_tree.get_paths_fancy()}\")"
   ]
  },
  {
   "cell_type": "markdown",
   "id": "d068b511",
   "metadata": {},
   "source": [
    "Note: No data available, but according to the README:\n",
    "\n",
    "- ad: Web events associated with the account in the last 90 days which may become attributable to a Promoted Tweet engagement on Twitter in the future.\n",
    "- eventType: Information about the event itself such as viewing a page.\n",
    "- conversionPlatform: Platform on which the event happened. For example: desktop.\n",
    "- conversionUrl: URL of the website on which the event occurred.\n",
    "- advertiserInfo: Advertiser name and screen name.\n",
    "- conversionValue: Value associated with the event.\n",
    "- conversionTime: Date and time of the event.\n",
    "- additionalParameters: Other optional parameters associated with the event such as a currency or product category."
   ]
  },
  {
   "cell_type": "markdown",
   "id": "2d7c6ae4",
   "metadata": {},
   "source": [
    "#### `app.js`"
   ]
  },
  {
   "cell_type": "code",
   "execution_count": null,
   "id": "1847387c",
   "metadata": {},
   "outputs": [],
   "source": [
    "cur_tree = trees[\"data/app.js\"]\n",
    "print(f\"Filename: {cur_tree.filename}\")\n",
    "print(f\"Paths:\\n{cur_tree.get_paths_fancy()}\")"
   ]
  },
  {
   "cell_type": "code",
   "execution_count": null,
   "id": "e0ca1c8d",
   "metadata": {},
   "outputs": [],
   "source": []
  },
  {
   "cell_type": "markdown",
   "id": "3d24fea5",
   "metadata": {},
   "source": [
    "#### `birdwatch-note-rating.js`"
   ]
  },
  {
   "cell_type": "code",
   "execution_count": null,
   "id": "eedd5e15",
   "metadata": {},
   "outputs": [],
   "source": [
    "cur_tree = trees[\"data/birdwatch-note-rating.js\"]\n",
    "print(f\"Filename: {cur_tree.filename}\")\n",
    "print(f\"Paths:\\n{cur_tree.get_paths_fancy()}\")"
   ]
  },
  {
   "cell_type": "code",
   "execution_count": null,
   "id": "711ea9c8",
   "metadata": {},
   "outputs": [],
   "source": []
  },
  {
   "cell_type": "markdown",
   "id": "6dd7e915",
   "metadata": {},
   "source": [
    "#### `birdwatch-note.js`"
   ]
  },
  {
   "cell_type": "code",
   "execution_count": null,
   "id": "c9e2c25b",
   "metadata": {},
   "outputs": [],
   "source": [
    "cur_tree = trees[\"data/birdwatch-note.js\"]\n",
    "print(f\"Filename: {cur_tree.filename}\")\n",
    "print(f\"Paths:\\n{cur_tree.get_paths_fancy()}\")"
   ]
  },
  {
   "cell_type": "code",
   "execution_count": null,
   "id": "ce234d2a",
   "metadata": {},
   "outputs": [],
   "source": []
  },
  {
   "cell_type": "markdown",
   "id": "5eb7efd5",
   "metadata": {},
   "source": [
    "#### `block.js`"
   ]
  },
  {
   "cell_type": "code",
   "execution_count": null,
   "id": "c8efb7c1",
   "metadata": {},
   "outputs": [],
   "source": [
    "cur_tree = trees[\"data/block.js\"]\n",
    "print(f\"Filename: {cur_tree.filename}\")\n",
    "print(f\"Paths:\\n{cur_tree.get_paths_fancy()}\")"
   ]
  },
  {
   "cell_type": "code",
   "execution_count": null,
   "id": "1d805283",
   "metadata": {},
   "outputs": [],
   "source": []
  },
  {
   "cell_type": "markdown",
   "id": "0ba709ef",
   "metadata": {},
   "source": [
    "#### `branch-links.js`"
   ]
  },
  {
   "cell_type": "markdown",
   "id": "cd1192cf",
   "metadata": {},
   "source": [
    "#### `community_tweet.js`"
   ]
  },
  {
   "cell_type": "markdown",
   "id": "b1090305",
   "metadata": {},
   "source": [
    "#### `connected-application.js`"
   ]
  },
  {
   "cell_type": "markdown",
   "id": "4fbd51e6",
   "metadata": {},
   "source": [
    "#### `device-token.js`"
   ]
  },
  {
   "cell_type": "markdown",
   "id": "15eff4e8",
   "metadata": {},
   "source": [
    "#### `direct-message-group-headers.js`"
   ]
  },
  {
   "cell_type": "markdown",
   "id": "a8b7f74b",
   "metadata": {},
   "source": [
    "#### `direct-message-headers.js`"
   ]
  },
  {
   "cell_type": "markdown",
   "id": "dab3d867",
   "metadata": {},
   "source": [
    "#### `direct-message-mute.js`"
   ]
  },
  {
   "cell_type": "markdown",
   "id": "4d88932b",
   "metadata": {},
   "source": [
    "#### `direct-messages-group.js`"
   ]
  },
  {
   "cell_type": "markdown",
   "id": "339ddc91",
   "metadata": {},
   "source": [
    "#### `direct-messages.js`"
   ]
  },
  {
   "cell_type": "markdown",
   "id": "990e7b0d",
   "metadata": {},
   "source": [
    "#### `follower.js`"
   ]
  },
  {
   "cell_type": "markdown",
   "id": "6a904d92",
   "metadata": {},
   "source": [
    "#### `following.js`"
   ]
  },
  {
   "cell_type": "markdown",
   "id": "41dfee2b",
   "metadata": {},
   "source": [
    "#### `like.js`"
   ]
  },
  {
   "cell_type": "markdown",
   "id": "432cd7d3",
   "metadata": {},
   "source": [
    "#### `lists-created.js`"
   ]
  },
  {
   "cell_type": "markdown",
   "id": "575b98fc",
   "metadata": {},
   "source": [
    "#### `lists-member.js`"
   ]
  },
  {
   "cell_type": "markdown",
   "id": "8ca6fd3b",
   "metadata": {},
   "source": [
    "#### `lists-subscribed.js`"
   ]
  },
  {
   "cell_type": "markdown",
   "id": "2641b7ac",
   "metadata": {},
   "source": [
    "#### `moment.js`"
   ]
  },
  {
   "cell_type": "markdown",
   "id": "f55272ff",
   "metadata": {},
   "source": [
    "#### `mute.js`"
   ]
  },
  {
   "cell_type": "markdown",
   "id": "5b24ae32",
   "metadata": {},
   "source": [
    "#### `ni-devices.js`"
   ]
  },
  {
   "cell_type": "markdown",
   "id": "199ff87e",
   "metadata": {},
   "source": [
    "#### `periscope-broadcast-metadata.js`"
   ]
  },
  {
   "cell_type": "markdown",
   "id": "7a234c38",
   "metadata": {},
   "source": [
    "#### `periscope-comments-made-by-user.js`"
   ]
  },
  {
   "cell_type": "markdown",
   "id": "3c9a23e9",
   "metadata": {},
   "source": [
    "#### `periscope-followers.js`"
   ]
  },
  {
   "cell_type": "markdown",
   "id": "13195c29",
   "metadata": {},
   "source": [
    "#### `periscope-profile-description.js`"
   ]
  },
  {
   "cell_type": "markdown",
   "id": "da4ae4bb",
   "metadata": {},
   "source": [
    "#### `professional_data.js`"
   ]
  },
  {
   "cell_type": "markdown",
   "id": "51282db0",
   "metadata": {},
   "source": [
    "#### `profile.js`"
   ]
  },
  {
   "cell_type": "markdown",
   "id": "0b21fe93",
   "metadata": {},
   "source": [
    "#### `protected-history.js`"
   ]
  },
  {
   "cell_type": "markdown",
   "id": "7eba6eb2",
   "metadata": {},
   "source": [
    "#### `reply-prompt.js`"
   ]
  },
  {
   "cell_type": "markdown",
   "id": "7a57aa12",
   "metadata": {},
   "source": [
    "#### `saved-search.js`"
   ]
  },
  {
   "cell_type": "markdown",
   "id": "17ec44da",
   "metadata": {},
   "source": [
    "#### `smartblock.js`"
   ]
  },
  {
   "cell_type": "markdown",
   "id": "bde929cc",
   "metadata": {},
   "source": [
    "#### `tweet.js`"
   ]
  },
  {
   "cell_type": "markdown",
   "id": "1f6cd82f",
   "metadata": {},
   "source": [
    "#### `tweetdeck.js`"
   ]
  },
  {
   "cell_type": "markdown",
   "id": "46b631f5",
   "metadata": {},
   "source": [
    "#### `user-link-clicks.js`"
   ]
  },
  {
   "cell_type": "markdown",
   "id": "f4b9a078",
   "metadata": {},
   "source": [
    "#### `verified.js`"
   ]
  },
  {
   "cell_type": "markdown",
   "id": "558e97ec",
   "metadata": {},
   "source": [
    "### \"INFERENCES\"\n",
    "\n",
    "\"(Inferences drawn to create a profile about the user reflecting their preferences, characteristics, predispositions, behavior, and attitudes)\""
   ]
  },
  {
   "cell_type": "markdown",
   "id": "2d96d07d",
   "metadata": {},
   "source": [
    "#### `personalization.js`"
   ]
  },
  {
   "cell_type": "markdown",
   "id": "2c84ab7a",
   "metadata": {},
   "source": [
    "### \"PROTECTED CLASSIFICATIONS\"\n",
    "\n",
    "\"(Characteristics of certain legally protected classifications.)\"\n",
    "\n",
    "\"For information about the language(s), gender, and age associated with the account (which may be inferred), please refer to [personalization.js](#personalization.js).\""
   ]
  },
  {
   "cell_type": "markdown",
   "id": "393949a8",
   "metadata": {},
   "source": [
    "#### `ageinfo.js`"
   ]
  },
  {
   "cell_type": "markdown",
   "id": "aa088778",
   "metadata": {},
   "source": [
    "### \"LOCATION DATA\"\n",
    "\"For location data associated with the account, please refer to location in [profile.js](#profile.js) and locationHistory in [personalization.js](#personalization.js). For information about a Periscope broadcast location, please refer to [periscope-broadcast-metadata.js](#periscope-broadcast-metadata.js).\""
   ]
  },
  {
   "cell_type": "code",
   "execution_count": null,
   "id": "d3acd375",
   "metadata": {},
   "outputs": [],
   "source": []
  },
  {
   "cell_type": "markdown",
   "id": "912f929a",
   "metadata": {},
   "source": [
    "### data/account-creation-ip.js"
   ]
  },
  {
   "cell_type": "markdown",
   "id": "a6ff6c0f",
   "metadata": {},
   "source": [
    "### data/account-suspension.js"
   ]
  },
  {
   "cell_type": "code",
   "execution_count": null,
   "id": "f906bba3",
   "metadata": {},
   "outputs": [],
   "source": [
    "cur_tree = trees[\"data/account-suspension.js\"]\n",
    "cur_tree"
   ]
  },
  {
   "cell_type": "markdown",
   "id": "25035a65",
   "metadata": {},
   "source": [
    "#### ... Nothing in there..."
   ]
  },
  {
   "cell_type": "markdown",
   "id": "ae8d59cb",
   "metadata": {},
   "source": [
    "### data/account-timezone.js"
   ]
  },
  {
   "cell_type": "code",
   "execution_count": null,
   "id": "f6445f7f",
   "metadata": {},
   "outputs": [],
   "source": [
    "cur_tree = trees[\"data/account-timezone.js\"]"
   ]
  },
  {
   "cell_type": "code",
   "execution_count": null,
   "id": "4c72ddfc",
   "metadata": {},
   "outputs": [],
   "source": [
    "print(f\"Filename: {cur_tree.filename}\")\n",
    "print(f\"Paths:\\n{cur_tree.get_paths_fancy()}\")"
   ]
  },
  {
   "cell_type": "markdown",
   "id": "42f5eddd",
   "metadata": {},
   "source": [
    "#### Adding information where we can"
   ]
  },
  {
   "cell_type": "code",
   "execution_count": null,
   "id": "566ddd86",
   "metadata": {},
   "outputs": [],
   "source": [
    "cur_tree.set_attributes(\n",
    "    \"data/account-timezone.js:$\",\n",
    "    descriptiveType=NA,\n",
    "    unique=True,\n",
    "    default=NA,\n",
    "    description=NA,\n",
    "    choices=NA,\n",
    "    regex=NA,\n",
    ")"
   ]
  },
  {
   "cell_type": "code",
   "execution_count": null,
   "id": "356e57ab",
   "metadata": {},
   "outputs": [],
   "source": [
    "cur_tree.set_attributes(\n",
    "    \"data/account-timezone.js:$[*].accountTimezone.accountId\",\n",
    "    descriptiveType=\"https://schema.org/identifier\",\n",
    "    unique=True,\n",
    "    default=NA,\n",
    "    description=\"Unique account ID for that user.\",\n",
    "    choices=NA,\n",
    "    regex=NA,\n",
    ")"
   ]
  },
  {
   "cell_type": "code",
   "execution_count": null,
   "id": "0e527248",
   "metadata": {},
   "outputs": [],
   "source": [
    "cur_tree.set_attributes(\n",
    "    \"data/account-timezone.js:$[*].accountTimezone.timeZone\",\n",
    "    descriptiveType=\"https://schema.org/scheduleTimezone\",\n",
    "    unique=False,\n",
    "    default=NA,\n",
    "    description=\"Timezone used when creating the account.\",\n",
    "    choices=NA,\n",
    "    regex=[r\"\\w+\"],\n",
    ")"
   ]
  },
  {
   "cell_type": "markdown",
   "id": "382ec1b3",
   "metadata": {},
   "source": [
    "### data/account.js"
   ]
  },
  {
   "cell_type": "code",
   "execution_count": null,
   "id": "5b3474b3",
   "metadata": {},
   "outputs": [],
   "source": [
    "cur_tree = trees[\"data/account.js\"]"
   ]
  },
  {
   "cell_type": "code",
   "execution_count": null,
   "id": "d74861d8",
   "metadata": {},
   "outputs": [],
   "source": [
    "print(f\"Filename: {cur_tree.filename}\")\n",
    "print(f\"Paths:\\n{cur_tree.get_paths_fancy()}\")"
   ]
  },
  {
   "cell_type": "markdown",
   "id": "6fc4c043",
   "metadata": {},
   "source": [
    "#### Adding information where we can"
   ]
  },
  {
   "cell_type": "code",
   "execution_count": null,
   "id": "2ddcd11f",
   "metadata": {},
   "outputs": [],
   "source": [
    "cur_tree.set_attributes(\n",
    "    \"data/account.js:$\",\n",
    "    descriptiveType=NA,\n",
    "    unique=True,\n",
    "    default=NA,\n",
    "    description=NA,\n",
    "    choices=NA,\n",
    "    regex=NA,\n",
    ")"
   ]
  },
  {
   "cell_type": "code",
   "execution_count": null,
   "id": "440154a5",
   "metadata": {},
   "outputs": [],
   "source": [
    "cur_tree.set_attributes(\n",
    "    \"data/account.js:$[*].account.accountDisplayName\",\n",
    "    descriptiveType=NA,\n",
    "    unique=True,\n",
    "    default=NA,\n",
    "    description=\"Current display name for that account.\",\n",
    "    choices=NA,\n",
    "    regex=NA,\n",
    ")"
   ]
  },
  {
   "cell_type": "code",
   "execution_count": null,
   "id": "2224a2fd",
   "metadata": {},
   "outputs": [],
   "source": [
    "cur_tree.set_attributes(\n",
    "    \"data/account.js:$[*].account.accountId\",\n",
    "    descriptiveType=\"https://schema.org/identifier\",\n",
    "    unique=True,\n",
    "    default=NA,\n",
    "    description=\"Unique account ID for that user.\",\n",
    "    choices=NA,\n",
    "    regex=NA,\n",
    ")"
   ]
  },
  {
   "cell_type": "code",
   "execution_count": null,
   "id": "11f81c91",
   "metadata": {},
   "outputs": [],
   "source": [
    "cur_tree.set_attributes(\n",
    "    \"data/account.js:$[*].account.createdAt\",\n",
    "    descriptiveType=NA,\n",
    "    unique=True,\n",
    "    default=NA,\n",
    "    description=\"Timestamp for the creation of that account.\",\n",
    "    choices=NA,\n",
    "    regex=NA,\n",
    ")"
   ]
  },
  {
   "cell_type": "code",
   "execution_count": null,
   "id": "7b30bb5b",
   "metadata": {},
   "outputs": [],
   "source": [
    "cur_tree.set_attributes(\n",
    "    \"data/account.js:$[*].account.createdVia\",\n",
    "    descriptiveType=NA,\n",
    "    unique=True,\n",
    "    default=NA,\n",
    "    description=\"Platform used to create that account.\",\n",
    "    choices=NA,\n",
    "    regex=NA,\n",
    ")"
   ]
  },
  {
   "cell_type": "code",
   "execution_count": null,
   "id": "8a59ef4f",
   "metadata": {},
   "outputs": [],
   "source": [
    "cur_tree.set_attributes(\n",
    "    \"data/account.js:$[*].account.email\",\n",
    "    descriptiveType=NA,\n",
    "    unique=True,\n",
    "    default=NA,\n",
    "    description=\"Email linked to that account.\",\n",
    "    choices=NA,\n",
    "    regex=[r\"^[\\w-\\.]+@([\\w-]+\\.)+[\\w-]{2,4}$\"],\n",
    ")"
   ]
  },
  {
   "cell_type": "code",
   "execution_count": null,
   "id": "c876eff2",
   "metadata": {},
   "outputs": [],
   "source": [
    "cur_tree.set_attributes(\n",
    "    \"data/account.js:$[*].account.username\",\n",
    "    descriptiveType=NA,\n",
    "    unique=True,\n",
    "    default=NA,\n",
    "    description=\"Current username for that account.\",\n",
    "    choices=NA,\n",
    "    regex=[r\"^(\\w){1,15}$\"],\n",
    ")"
   ]
  },
  {
   "cell_type": "markdown",
   "id": "afa90d6e",
   "metadata": {},
   "source": [
    "#### ... etc."
   ]
  },
  {
   "cell_type": "markdown",
   "id": "d1daa652",
   "metadata": {},
   "source": [
    "## Model\n",
    "\n",
    "- We are now creating the Model based on the different trees.\n",
    "- This Model will contains all our definitions, along with the correct paths."
   ]
  },
  {
   "cell_type": "code",
   "execution_count": null,
   "id": "8f67cc64",
   "metadata": {},
   "outputs": [],
   "source": [
    "from argonodes.models import Model\n",
    "model = Model(trees=trees.values(), name=\"Twitter\")"
   ]
  },
  {
   "cell_type": "code",
   "execution_count": null,
   "id": "346565ca",
   "metadata": {
    "scrolled": false
   },
   "outputs": [],
   "source": [
    "model.changes[-1]"
   ]
  },
  {
   "cell_type": "markdown",
   "id": "471c4772",
   "metadata": {},
   "source": [
    "### Exporting the Models"
   ]
  },
  {
   "cell_type": "code",
   "execution_count": null,
   "id": "74ff7bdf",
   "metadata": {},
   "outputs": [],
   "source": [
    "model.export_traversal(filename=\"../models/Twitter.md\", scheme=\"markdown\")"
   ]
  },
  {
   "cell_type": "code",
   "execution_count": null,
   "id": "d55992be",
   "metadata": {},
   "outputs": [],
   "source": [
    "model.export_traversal(filename=\"../models/Twitter.json\", scheme=\"json\")"
   ]
  },
  {
   "cell_type": "markdown",
   "id": "b50c2177",
   "metadata": {},
   "source": [
    "#### Preview"
   ]
  },
  {
   "cell_type": "code",
   "execution_count": null,
   "id": "31c2f650",
   "metadata": {},
   "outputs": [],
   "source": [
    "model.export_traversal(scheme=\"markdown\")"
   ]
  },
  {
   "cell_type": "code",
   "execution_count": null,
   "id": "1040968c",
   "metadata": {},
   "outputs": [],
   "source": []
  }
 ],
 "metadata": {
  "kernelspec": {
   "display_name": "Python 3 (ipykernel)",
   "language": "python",
   "name": "python3"
  },
  "language_info": {
   "codemirror_mode": {
    "name": "ipython",
    "version": 3
   },
   "file_extension": ".py",
   "mimetype": "text/x-python",
   "name": "python",
   "nbconvert_exporter": "python",
   "pygments_lexer": "ipython3",
   "version": "3.10.4"
  }
 },
 "nbformat": 4,
 "nbformat_minor": 5
}
