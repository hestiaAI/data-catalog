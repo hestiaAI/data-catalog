{
 "cells": [
  {
   "cell_type": "markdown",
   "id": "1a977ab6",
   "metadata": {},
   "source": [
    "## Imports"
   ]
  },
  {
   "cell_type": "code",
   "execution_count": null,
   "id": "523c5799",
   "metadata": {},
   "outputs": [],
   "source": [
    "%load_ext autoreload\n",
    "%autoreload 2"
   ]
  },
  {
   "cell_type": "code",
   "execution_count": null,
   "id": "e688d8f0",
   "metadata": {},
   "outputs": [],
   "source": [
    "import json\n",
    "from pprint import pprint"
   ]
  },
  {
   "cell_type": "code",
   "execution_count": null,
   "id": "2390e464",
   "metadata": {},
   "outputs": [],
   "source": [
    "zipfilename = \"../inputs/twitter-2022-02-17-cf8888eb631a941f287fbfec1a2662e1127775f1ba68efad59880f2fafdcfea7.zip\""
   ]
  },
  {
   "cell_type": "markdown",
   "id": "0dc5c49e",
   "metadata": {},
   "source": [
    "## Parsing\n",
    "\n",
    "- We are parsing the ZIP from Twitter, using a ZIPParser with a TwitterJSParser as argument.\n",
    "- This parsing will return a list of Trees to explore."
   ]
  },
  {
   "cell_type": "code",
   "execution_count": null,
   "id": "c0790694",
   "metadata": {
    "scrolled": true
   },
   "outputs": [],
   "source": [
    "from argonodes.parsers import ZIPParser, TwitterJSParser\n",
    "zipparser = ZIPParser(parser=TwitterJSParser, regex=r\"data\\/.*\\.js$\", extension=\"js\", verbose=1)\n",
    "trees = zipparser(zipfilename)"
   ]
  },
  {
   "cell_type": "markdown",
   "id": "0c079939",
   "metadata": {},
   "source": [
    "## Tree exploration\n",
    "\n",
    "- For each Tree, we do a bit of exploration, and try to add informations."
   ]
  },
  {
   "cell_type": "code",
   "execution_count": null,
   "id": "6794eaab",
   "metadata": {},
   "outputs": [],
   "source": [
    "from argonodes.nodes import NA"
   ]
  },
  {
   "cell_type": "markdown",
   "id": "3ed8664f",
   "metadata": {},
   "source": [
    "### Installing facultative imports\n",
    "\n",
    "We are going to use FoundRegex, which uses an external package, `tdda`."
   ]
  },
  {
   "cell_type": "code",
   "execution_count": null,
   "id": "dee2394c",
   "metadata": {},
   "outputs": [],
   "source": [
    "!pip install tdda"
   ]
  },
  {
   "cell_type": "code",
   "execution_count": null,
   "id": "b3d7b335",
   "metadata": {},
   "outputs": [],
   "source": [
    "from argonodes.appliers import FoundRegex\n",
    "found_regex = FoundRegex()"
   ]
  },
  {
   "cell_type": "markdown",
   "id": "fc15c780",
   "metadata": {},
   "source": [
    "#### Do we have some pattern?\n",
    "\n",
    "We are going to do a \"full example\" using FoundRegex, but sometimes you do not need it at all."
   ]
  },
  {
   "cell_type": "code",
   "execution_count": null,
   "id": "f888cbe7",
   "metadata": {},
   "outputs": [],
   "source": [
    "for i, tree in enumerate(trees.values()):\n",
    "    found_regex(tree)\n",
    "    if i == 3:  # Because it can take some time...\n",
    "        break\n",
    "pprint(found_regex.data)"
   ]
  },
  {
   "cell_type": "markdown",
   "id": "912f929a",
   "metadata": {},
   "source": [
    "### data/account-creation-ip.js"
   ]
  },
  {
   "cell_type": "code",
   "execution_count": null,
   "id": "9c2292b4",
   "metadata": {},
   "outputs": [],
   "source": [
    "cur_tree = trees[\"data/account-creation-ip.js\"]"
   ]
  },
  {
   "cell_type": "code",
   "execution_count": null,
   "id": "dff7d04f",
   "metadata": {},
   "outputs": [],
   "source": [
    "print(f\"Filename: {cur_tree.filename}\")\n",
    "print(f\"Paths:\\n{cur_tree.get_paths_fancy()}\")"
   ]
  },
  {
   "cell_type": "markdown",
   "id": "cb40260d",
   "metadata": {},
   "source": [
    "#### Adding information where we can"
   ]
  },
  {
   "cell_type": "code",
   "execution_count": null,
   "id": "09e4ca4b",
   "metadata": {},
   "outputs": [],
   "source": [
    "cur_tree.set_attributes(\n",
    "    \"data/account-creation-ip.js:$\",\n",
    "    descriptiveType=NA,\n",
    "    unique=True,\n",
    "    default=NA,\n",
    "    description=\"What IP was used to create that account.\",\n",
    "    choices=NA,\n",
    "    regex=NA,\n",
    ")"
   ]
  },
  {
   "cell_type": "code",
   "execution_count": null,
   "id": "162e60a1",
   "metadata": {},
   "outputs": [],
   "source": [
    "cur_tree.set_attributes(\n",
    "    \"data/account-creation-ip.js:$[*].accountCreationIp.accountId\",\n",
    "    descriptiveType=\"https://schema.org/identifier\",\n",
    "    unique=True,\n",
    "    default=NA,\n",
    "    description=\"Unique account ID for that user.\",\n",
    "    choices=NA,\n",
    "    regex=NA,\n",
    ")"
   ]
  },
  {
   "cell_type": "code",
   "execution_count": null,
   "id": "e9f793fe",
   "metadata": {},
   "outputs": [],
   "source": [
    "cur_tree.set_attributes(\n",
    "    \"data/account-creation-ip.js:$[*].accountCreationIp.userCreationIp\",\n",
    "    descriptiveType=\"https://github.com/hestiaAI/Argonodes/wiki/General:IPv4\",\n",
    "    unique=True,\n",
    "    default=NA,\n",
    "    description=\"Unique account ID for that user.\",\n",
    "    choices=NA,\n",
    "    regex=[r\"(\\b25[0-5]|\\b2[0-4][0-9]|\\b[01]?[0-9][0-9]?)(\\.(25[0-5]|2[0-4][0-9]|[01]?[0-9][0-9]?)){3}\"],\n",
    ")"
   ]
  },
  {
   "cell_type": "markdown",
   "id": "a6ff6c0f",
   "metadata": {},
   "source": [
    "### data/account-suspension.js"
   ]
  },
  {
   "cell_type": "code",
   "execution_count": null,
   "id": "f906bba3",
   "metadata": {},
   "outputs": [],
   "source": [
    "cur_tree = trees[\"data/account-suspension.js\"]\n",
    "cur_tree"
   ]
  },
  {
   "cell_type": "markdown",
   "id": "25035a65",
   "metadata": {},
   "source": [
    "#### ... Nothing in there..."
   ]
  },
  {
   "cell_type": "markdown",
   "id": "ae8d59cb",
   "metadata": {},
   "source": [
    "### data/account-timezone.js"
   ]
  },
  {
   "cell_type": "code",
   "execution_count": null,
   "id": "f6445f7f",
   "metadata": {},
   "outputs": [],
   "source": [
    "cur_tree = trees[\"data/account-timezone.js\"]"
   ]
  },
  {
   "cell_type": "code",
   "execution_count": null,
   "id": "4c72ddfc",
   "metadata": {},
   "outputs": [],
   "source": [
    "print(f\"Filename: {cur_tree.filename}\")\n",
    "print(f\"Paths:\\n{cur_tree.get_paths_fancy()}\")"
   ]
  },
  {
   "cell_type": "markdown",
   "id": "42f5eddd",
   "metadata": {},
   "source": [
    "#### Adding information where we can"
   ]
  },
  {
   "cell_type": "code",
   "execution_count": null,
   "id": "566ddd86",
   "metadata": {},
   "outputs": [],
   "source": [
    "cur_tree.set_attributes(\n",
    "    \"data/account-timezone.js:$\",\n",
    "    descriptiveType=NA,\n",
    "    unique=True,\n",
    "    default=NA,\n",
    "    description=NA,\n",
    "    choices=NA,\n",
    "    regex=NA,\n",
    ")"
   ]
  },
  {
   "cell_type": "code",
   "execution_count": null,
   "id": "356e57ab",
   "metadata": {},
   "outputs": [],
   "source": [
    "cur_tree.set_attributes(\n",
    "    \"data/account-timezone.js:$[*].accountTimezone.accountId\",\n",
    "    descriptiveType=\"https://schema.org/identifier\",\n",
    "    unique=True,\n",
    "    default=NA,\n",
    "    description=\"Unique account ID for that user.\",\n",
    "    choices=NA,\n",
    "    regex=NA,\n",
    ")"
   ]
  },
  {
   "cell_type": "code",
   "execution_count": null,
   "id": "0e527248",
   "metadata": {},
   "outputs": [],
   "source": [
    "cur_tree.set_attributes(\n",
    "    \"data/account-timezone.js:$[*].accountTimezone.timeZone\",\n",
    "    descriptiveType=\"https://schema.org/scheduleTimezone\",\n",
    "    unique=False,\n",
    "    default=NA,\n",
    "    description=\"Timezone used when creating the account.\",\n",
    "    choices=NA,\n",
    "    regex=[r\"\\w+\"],\n",
    ")"
   ]
  },
  {
   "cell_type": "markdown",
   "id": "382ec1b3",
   "metadata": {},
   "source": [
    "### data/account.js"
   ]
  },
  {
   "cell_type": "code",
   "execution_count": null,
   "id": "5b3474b3",
   "metadata": {},
   "outputs": [],
   "source": [
    "cur_tree = trees[\"data/account.js\"]"
   ]
  },
  {
   "cell_type": "code",
   "execution_count": null,
   "id": "d74861d8",
   "metadata": {},
   "outputs": [],
   "source": [
    "print(f\"Filename: {cur_tree.filename}\")\n",
    "print(f\"Paths:\\n{cur_tree.get_paths_fancy()}\")"
   ]
  },
  {
   "cell_type": "markdown",
   "id": "6fc4c043",
   "metadata": {},
   "source": [
    "#### Adding information where we can"
   ]
  },
  {
   "cell_type": "code",
   "execution_count": null,
   "id": "2ddcd11f",
   "metadata": {},
   "outputs": [],
   "source": [
    "cur_tree.set_attributes(\n",
    "    \"data/account.js:$\",\n",
    "    descriptiveType=NA,\n",
    "    unique=True,\n",
    "    default=NA,\n",
    "    description=NA,\n",
    "    choices=NA,\n",
    "    regex=NA,\n",
    ")"
   ]
  },
  {
   "cell_type": "code",
   "execution_count": null,
   "id": "440154a5",
   "metadata": {},
   "outputs": [],
   "source": [
    "cur_tree.set_attributes(\n",
    "    \"data/account.js:$[*].account.accountDisplayName\",\n",
    "    descriptiveType=NA,\n",
    "    unique=True,\n",
    "    default=NA,\n",
    "    description=\"Current display name for that account.\",\n",
    "    choices=NA,\n",
    "    regex=NA,\n",
    ")"
   ]
  },
  {
   "cell_type": "code",
   "execution_count": null,
   "id": "2224a2fd",
   "metadata": {},
   "outputs": [],
   "source": [
    "cur_tree.set_attributes(\n",
    "    \"data/account.js:$[*].account.accountId\",\n",
    "    descriptiveType=\"https://schema.org/identifier\",\n",
    "    unique=True,\n",
    "    default=NA,\n",
    "    description=\"Unique account ID for that user.\",\n",
    "    choices=NA,\n",
    "    regex=NA,\n",
    ")"
   ]
  },
  {
   "cell_type": "code",
   "execution_count": null,
   "id": "11f81c91",
   "metadata": {},
   "outputs": [],
   "source": [
    "cur_tree.set_attributes(\n",
    "    \"data/account.js:$[*].account.createdAt\",\n",
    "    descriptiveType=NA,\n",
    "    unique=True,\n",
    "    default=NA,\n",
    "    description=\"Timestamp for the creation of that account.\",\n",
    "    choices=NA,\n",
    "    regex=NA,\n",
    ")"
   ]
  },
  {
   "cell_type": "code",
   "execution_count": null,
   "id": "7b30bb5b",
   "metadata": {},
   "outputs": [],
   "source": [
    "cur_tree.set_attributes(\n",
    "    \"data/account.js:$[*].account.createdVia\",\n",
    "    descriptiveType=NA,\n",
    "    unique=True,\n",
    "    default=NA,\n",
    "    description=\"Platform used to create that account.\",\n",
    "    choices=NA,\n",
    "    regex=NA,\n",
    ")"
   ]
  },
  {
   "cell_type": "code",
   "execution_count": null,
   "id": "8a59ef4f",
   "metadata": {},
   "outputs": [],
   "source": [
    "cur_tree.set_attributes(\n",
    "    \"data/account.js:$[*].account.email\",\n",
    "    descriptiveType=NA,\n",
    "    unique=True,\n",
    "    default=NA,\n",
    "    description=\"Email linked to that account.\",\n",
    "    choices=NA,\n",
    "    regex=[r\"^[\\w-\\.]+@([\\w-]+\\.)+[\\w-]{2,4}$\"],\n",
    ")"
   ]
  },
  {
   "cell_type": "code",
   "execution_count": null,
   "id": "c876eff2",
   "metadata": {},
   "outputs": [],
   "source": [
    "cur_tree.set_attributes(\n",
    "    \"data/account.js:$[*].account.username\",\n",
    "    descriptiveType=NA,\n",
    "    unique=True,\n",
    "    default=NA,\n",
    "    description=\"Current username for that account.\",\n",
    "    choices=NA,\n",
    "    regex=[r\"^(\\w){1,15}$\"],\n",
    ")"
   ]
  },
  {
   "cell_type": "markdown",
   "id": "afa90d6e",
   "metadata": {},
   "source": [
    "#### ... etc."
   ]
  },
  {
   "cell_type": "markdown",
   "id": "d1daa652",
   "metadata": {},
   "source": [
    "## Model\n",
    "\n",
    "- We are now creating the Model based on the different trees.\n",
    "- This Model will contains all our definitions, along with the correct paths."
   ]
  },
  {
   "cell_type": "code",
   "execution_count": null,
   "id": "8f67cc64",
   "metadata": {},
   "outputs": [],
   "source": [
    "from argonodes.models import Model\n",
    "model = Model(trees=trees.values(), name=\"Twitter\")"
   ]
  },
  {
   "cell_type": "code",
   "execution_count": null,
   "id": "346565ca",
   "metadata": {
    "scrolled": false
   },
   "outputs": [],
   "source": [
    "model.changes[-1]"
   ]
  },
  {
   "cell_type": "markdown",
   "id": "471c4772",
   "metadata": {},
   "source": [
    "### Exporting the Models"
   ]
  },
  {
   "cell_type": "code",
   "execution_count": null,
   "id": "74ff7bdf",
   "metadata": {},
   "outputs": [],
   "source": [
    "model.export_traversal(filename=\"../outputs/Twitter.md\", scheme=\"markdown\")"
   ]
  },
  {
   "cell_type": "code",
   "execution_count": null,
   "id": "d55992be",
   "metadata": {},
   "outputs": [],
   "source": [
    "model.export_traversal(filename=\"../outputs/Twitter.json\", scheme=\"json\")"
   ]
  },
  {
   "cell_type": "markdown",
   "id": "b50c2177",
   "metadata": {},
   "source": [
    "#### Preview"
   ]
  },
  {
   "cell_type": "code",
   "execution_count": null,
   "id": "31c2f650",
   "metadata": {},
   "outputs": [],
   "source": [
    "model.export_traversal(scheme=\"markdown\")"
   ]
  },
  {
   "cell_type": "code",
   "execution_count": null,
   "id": "1040968c",
   "metadata": {},
   "outputs": [],
   "source": []
  }
 ],
 "metadata": {
  "kernelspec": {
   "display_name": "Python 3 (ipykernel)",
   "language": "python",
   "name": "python3"
  },
  "language_info": {
   "codemirror_mode": {
    "name": "ipython",
    "version": 3
   },
   "file_extension": ".py",
   "mimetype": "text/x-python",
   "name": "python",
   "nbconvert_exporter": "python",
   "pygments_lexer": "ipython3",
   "version": "3.10.4"
  }
 },
 "nbformat": 4,
 "nbformat_minor": 5
}
