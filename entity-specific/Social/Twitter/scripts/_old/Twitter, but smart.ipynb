{
 "cells": [
  {
   "cell_type": "code",
   "execution_count": null,
   "id": "724aa5e0",
   "metadata": {},
   "outputs": [],
   "source": [
    "%load_ext autoreload\n",
    "%autoreload 2"
   ]
  },
  {
   "cell_type": "code",
   "execution_count": null,
   "id": "a5b689e7",
   "metadata": {},
   "outputs": [],
   "source": [
    "import json\n",
    "from pprint import pprint\n",
    "import pandas as pd\n",
    "from os.path import exists"
   ]
  },
  {
   "cell_type": "code",
   "execution_count": null,
   "id": "d07cd53d",
   "metadata": {},
   "outputs": [],
   "source": [
    "zipfilename = \"../inputs/twitter-2022-02-17-cf8888eb631a941f287fbfec1a2662e1127775f1ba68efad59880f2fafdcfea7.zip\""
   ]
  },
  {
   "cell_type": "code",
   "execution_count": null,
   "id": "4de7e279",
   "metadata": {},
   "outputs": [],
   "source": [
    "from argonodes.parsers import ZIPParser, TwitterJSParser\n",
    "zipparser = ZIPParser(parser=TwitterJSParser, regex=r\"data\\/.*\\.js$\", extension=\"js\", verbose=1)\n",
    "trees = zipparser(zipfilename)"
   ]
  },
  {
   "cell_type": "code",
   "execution_count": null,
   "id": "e13cc381",
   "metadata": {},
   "outputs": [],
   "source": [
    "from argonodes.nodes import NA"
   ]
  },
  {
   "cell_type": "code",
   "execution_count": null,
   "id": "c68f3084",
   "metadata": {},
   "outputs": [],
   "source": [
    "from argonodes.models import Model\n",
    "model = Model(trees=trees.values(), name=\"Twitter\")"
   ]
  },
  {
   "cell_type": "code",
   "execution_count": null,
   "id": "7086afbd",
   "metadata": {},
   "outputs": [],
   "source": [
    "model.changes[-1]"
   ]
  },
  {
   "cell_type": "code",
   "execution_count": null,
   "id": "c4544f1e",
   "metadata": {},
   "outputs": [],
   "source": [
    "liste = model.to_list()\n",
    "df = pd.DataFrame(data=liste[1:], columns=liste[0])\n",
    "df"
   ]
  },
  {
   "cell_type": "code",
   "execution_count": null,
   "id": "c296d17b",
   "metadata": {},
   "outputs": [],
   "source": [
    "# Do that only the first time, or else it will erase your work...\n",
    "if not exists(\"../models/Twitter.csv\"):\n",
    "    model.export_traversal(filename=\"../models/Twitter.csv\", scheme=\"csv\")"
   ]
  },
  {
   "cell_type": "markdown",
   "id": "47464adc",
   "metadata": {},
   "source": [
    "Do things in the file..."
   ]
  },
  {
   "cell_type": "code",
   "execution_count": null,
   "id": "47b4f535",
   "metadata": {},
   "outputs": [],
   "source": [
    "model.load_traversal(filename=\"../models/Twitter.csv\")"
   ]
  },
  {
   "cell_type": "code",
   "execution_count": null,
   "id": "04f0614b",
   "metadata": {},
   "outputs": [],
   "source": [
    "liste = model.to_list()\n",
    "df = pd.DataFrame(data=liste[1:], columns=liste[0])\n",
    "df"
   ]
  },
  {
   "cell_type": "code",
   "execution_count": null,
   "id": "4e89aa3a",
   "metadata": {},
   "outputs": [],
   "source": [
    "model.export_traversal(filename=\"../models/Twitter.md\", scheme=\"markdown\")"
   ]
  },
  {
   "cell_type": "code",
   "execution_count": null,
   "id": "57a66395",
   "metadata": {},
   "outputs": [],
   "source": [
    "model.export_traversal(filename=\"../models/Twitter.json\", scheme=\"json\")"
   ]
  },
  {
   "cell_type": "code",
   "execution_count": null,
   "id": "687ad4bf",
   "metadata": {},
   "outputs": [],
   "source": []
  }
 ],
 "metadata": {
  "kernelspec": {
   "display_name": "Python 3 (ipykernel)",
   "language": "python",
   "name": "python3"
  },
  "language_info": {
   "codemirror_mode": {
    "name": "ipython",
    "version": 3
   },
   "file_extension": ".py",
   "mimetype": "text/x-python",
   "name": "python",
   "nbconvert_exporter": "python",
   "pygments_lexer": "ipython3",
   "version": "3.10.4"
  }
 },
 "nbformat": 4,
 "nbformat_minor": 5
}
